{
 "cells": [
  {
   "cell_type": "markdown",
   "metadata": {},
   "source": [
    "## Skoltech\n",
    "## Intro to data science, fall 2020\n",
    "## Assigment 2\n",
    "\n",
    "### Goals\n",
    "- Make exploratory data analysis\n",
    "- Apply feature engineering and feature selection\n",
    "- Try to solve classification task and use classification performance metrics\n",
    "- Get the taste of gradient boosting approach\n",
    "\n",
    "\n",
    "# Submiting the answers\n",
    "\n",
    "Google form to submit your answers: https://docs.google.com/forms/d/1zwUO1KZNDTZYuD12dyMO3CaErGHnZuHx1Mdbo-c11ME/\n",
    "\n",
    "Use your **skoltech email**. For Name, Surname use **exactly the same spelling** as in canvas system.\n",
    "\n",
    "---\n",
    "\n",
    "If your answer is a ``float number``, then it must be provided with **3 decimals after the floating point**, e.g. 1.234\n",
    "\n",
    "---\n",
    "\n",
    "If your answer is a ``list of float or integer numbers or str``, then they should be reported in descending (alphabetical) order,  divided by a comma, e.g.:\n",
    "\n",
    "10.453,9.112,5.001,5.000\n",
    "\n",
    "---\n",
    "\n",
    "The last part (Q5) do not have corresponding fields in the google form. It is **not optional** and it will be graded manually from your .ipynb file.\n",
    "\n",
    "---\n",
    "\n",
    "If you have any questions regarding this Home Assignment, ask them piazza topic: https://piazza.com/class/kespugtqfrn12g?cid=29"
   ]
  },
  {
   "cell_type": "markdown",
   "metadata": {},
   "source": [
    "#### Import basic libraries"
   ]
  },
  {
   "cell_type": "code",
   "execution_count": 1,
   "metadata": {
    "id": "IxQ5oO5xbtyW"
   },
   "outputs": [],
   "source": [
    "import pandas as pd\n",
    "import numpy as np\n",
    "import matplotlib.pyplot as plt\n",
    "%matplotlib inline\n",
    "import seaborn as sns\n",
    "sns.set()"
   ]
  },
  {
   "cell_type": "markdown",
   "metadata": {},
   "source": [
    "### Dataset\n",
    "For the task we'll use kickstarter dataset. Kickstarter is the crowdfounding platform, where people can announce their project with financial goals and other can support the projects by paying the money (\"pledging\"). The goal will be to predict if the project will be successfull, i.e. would it achieve the funding goal. Let's take a brief look to the dataset."
   ]
  },
  {
   "cell_type": "code",
   "execution_count": 2,
   "metadata": {
    "id": "mBWPB2ajcTnj"
   },
   "outputs": [],
   "source": [
    "df = pd.read_csv('ks-projects-201801.csv')\n",
    "df.set_index(\"ID\", inplace=True)"
   ]
  },
  {
   "cell_type": "code",
   "execution_count": 3,
   "metadata": {
    "colab": {
     "base_uri": "https://localhost:8080/",
     "height": 431
    },
    "id": "bA52wUNelGmZ",
    "outputId": "2258994a-956f-47fd-e295-7ecda8077687"
   },
   "outputs": [
    {
     "data": {
      "text/html": [
       "<div>\n",
       "<style scoped>\n",
       "    .dataframe tbody tr th:only-of-type {\n",
       "        vertical-align: middle;\n",
       "    }\n",
       "\n",
       "    .dataframe tbody tr th {\n",
       "        vertical-align: top;\n",
       "    }\n",
       "\n",
       "    .dataframe thead th {\n",
       "        text-align: right;\n",
       "    }\n",
       "</style>\n",
       "<table border=\"1\" class=\"dataframe\">\n",
       "  <thead>\n",
       "    <tr style=\"text-align: right;\">\n",
       "      <th></th>\n",
       "      <th>name</th>\n",
       "      <th>category</th>\n",
       "      <th>main_category</th>\n",
       "      <th>currency</th>\n",
       "      <th>deadline</th>\n",
       "      <th>goal</th>\n",
       "      <th>launched</th>\n",
       "      <th>pledged</th>\n",
       "      <th>state</th>\n",
       "      <th>backers</th>\n",
       "      <th>country</th>\n",
       "      <th>usd pledged</th>\n",
       "      <th>usd_pledged_real</th>\n",
       "      <th>usd_goal_real</th>\n",
       "    </tr>\n",
       "    <tr>\n",
       "      <th>ID</th>\n",
       "      <th></th>\n",
       "      <th></th>\n",
       "      <th></th>\n",
       "      <th></th>\n",
       "      <th></th>\n",
       "      <th></th>\n",
       "      <th></th>\n",
       "      <th></th>\n",
       "      <th></th>\n",
       "      <th></th>\n",
       "      <th></th>\n",
       "      <th></th>\n",
       "      <th></th>\n",
       "      <th></th>\n",
       "    </tr>\n",
       "  </thead>\n",
       "  <tbody>\n",
       "    <tr>\n",
       "      <th>524399188</th>\n",
       "      <td>Melinky - Beautiful and reliable mobile phone ...</td>\n",
       "      <td>Product Design</td>\n",
       "      <td>Design</td>\n",
       "      <td>GBP</td>\n",
       "      <td>2015-01-10</td>\n",
       "      <td>35000.0</td>\n",
       "      <td>2014-11-22 15:17:59</td>\n",
       "      <td>87.0</td>\n",
       "      <td>failed</td>\n",
       "      <td>6</td>\n",
       "      <td>GB</td>\n",
       "      <td>136.61</td>\n",
       "      <td>132.01</td>\n",
       "      <td>53107.55</td>\n",
       "    </tr>\n",
       "    <tr>\n",
       "      <th>1586272204</th>\n",
       "      <td>Tower 100</td>\n",
       "      <td>Video Games</td>\n",
       "      <td>Games</td>\n",
       "      <td>USD</td>\n",
       "      <td>2015-08-21</td>\n",
       "      <td>150.0</td>\n",
       "      <td>2015-07-22 20:25:31</td>\n",
       "      <td>150.0</td>\n",
       "      <td>successful</td>\n",
       "      <td>10</td>\n",
       "      <td>US</td>\n",
       "      <td>150.00</td>\n",
       "      <td>150.00</td>\n",
       "      <td>150.00</td>\n",
       "    </tr>\n",
       "    <tr>\n",
       "      <th>1019289383</th>\n",
       "      <td>Hondoo Outfitters LTD</td>\n",
       "      <td>Apparel</td>\n",
       "      <td>Fashion</td>\n",
       "      <td>USD</td>\n",
       "      <td>2015-03-13</td>\n",
       "      <td>3000.0</td>\n",
       "      <td>2015-02-09 18:51:55</td>\n",
       "      <td>336.0</td>\n",
       "      <td>failed</td>\n",
       "      <td>7</td>\n",
       "      <td>US</td>\n",
       "      <td>336.00</td>\n",
       "      <td>336.00</td>\n",
       "      <td>3000.00</td>\n",
       "    </tr>\n",
       "    <tr>\n",
       "      <th>1797154718</th>\n",
       "      <td>M-Plate: A Multi-Function Camera Tripod Plate ...</td>\n",
       "      <td>Product Design</td>\n",
       "      <td>Design</td>\n",
       "      <td>USD</td>\n",
       "      <td>2011-12-09</td>\n",
       "      <td>15000.0</td>\n",
       "      <td>2011-10-12 04:04:01</td>\n",
       "      <td>36289.0</td>\n",
       "      <td>successful</td>\n",
       "      <td>434</td>\n",
       "      <td>US</td>\n",
       "      <td>36289.00</td>\n",
       "      <td>36289.00</td>\n",
       "      <td>15000.00</td>\n",
       "    </tr>\n",
       "    <tr>\n",
       "      <th>1603723526</th>\n",
       "      <td>A secure SSD disk drive controlled by your sma...</td>\n",
       "      <td>Hardware</td>\n",
       "      <td>Technology</td>\n",
       "      <td>GBP</td>\n",
       "      <td>2014-07-16</td>\n",
       "      <td>131000.0</td>\n",
       "      <td>2014-06-06 09:46:02</td>\n",
       "      <td>8874.0</td>\n",
       "      <td>failed</td>\n",
       "      <td>26</td>\n",
       "      <td>GB</td>\n",
       "      <td>14858.10</td>\n",
       "      <td>15162.75</td>\n",
       "      <td>223835.97</td>\n",
       "    </tr>\n",
       "  </tbody>\n",
       "</table>\n",
       "</div>"
      ],
      "text/plain": [
       "                                                         name        category  \\\n",
       "ID                                                                              \n",
       "524399188   Melinky - Beautiful and reliable mobile phone ...  Product Design   \n",
       "1586272204                                          Tower 100     Video Games   \n",
       "1019289383                              Hondoo Outfitters LTD         Apparel   \n",
       "1797154718  M-Plate: A Multi-Function Camera Tripod Plate ...  Product Design   \n",
       "1603723526  A secure SSD disk drive controlled by your sma...        Hardware   \n",
       "\n",
       "           main_category currency    deadline      goal             launched  \\\n",
       "ID                                                                             \n",
       "524399188         Design      GBP  2015-01-10   35000.0  2014-11-22 15:17:59   \n",
       "1586272204         Games      USD  2015-08-21     150.0  2015-07-22 20:25:31   \n",
       "1019289383       Fashion      USD  2015-03-13    3000.0  2015-02-09 18:51:55   \n",
       "1797154718        Design      USD  2011-12-09   15000.0  2011-10-12 04:04:01   \n",
       "1603723526    Technology      GBP  2014-07-16  131000.0  2014-06-06 09:46:02   \n",
       "\n",
       "            pledged       state  backers country  usd pledged  \\\n",
       "ID                                                              \n",
       "524399188      87.0      failed        6      GB       136.61   \n",
       "1586272204    150.0  successful       10      US       150.00   \n",
       "1019289383    336.0      failed        7      US       336.00   \n",
       "1797154718  36289.0  successful      434      US     36289.00   \n",
       "1603723526   8874.0      failed       26      GB     14858.10   \n",
       "\n",
       "            usd_pledged_real  usd_goal_real  \n",
       "ID                                           \n",
       "524399188             132.01       53107.55  \n",
       "1586272204            150.00         150.00  \n",
       "1019289383            336.00        3000.00  \n",
       "1797154718          36289.00       15000.00  \n",
       "1603723526          15162.75      223835.97  "
      ]
     },
     "execution_count": 3,
     "metadata": {},
     "output_type": "execute_result"
    }
   ],
   "source": [
    "df.sample(5)"
   ]
  },
  {
   "cell_type": "code",
   "execution_count": 4,
   "metadata": {},
   "outputs": [
    {
     "data": {
      "text/plain": [
       "(378661, 14)"
      ]
     },
     "execution_count": 4,
     "metadata": {},
     "output_type": "execute_result"
    }
   ],
   "source": [
    "df.shape"
   ]
  },
  {
   "cell_type": "code",
   "execution_count": 5,
   "metadata": {},
   "outputs": [
    {
     "data": {
      "text/plain": [
       "failed        197719\n",
       "successful    133956\n",
       "canceled       38779\n",
       "undefined       3562\n",
       "live            2799\n",
       "suspended       1846\n",
       "Name: state, dtype: int64"
      ]
     },
     "execution_count": 5,
     "metadata": {},
     "output_type": "execute_result"
    }
   ],
   "source": [
    "df.state.value_counts()"
   ]
  },
  {
   "cell_type": "markdown",
   "metadata": {},
   "source": [
    "# Section 1. Dataset acquaintance"
   ]
  },
  {
   "cell_type": "markdown",
   "metadata": {},
   "source": [
    "-----"
   ]
  },
  {
   "cell_type": "markdown",
   "metadata": {},
   "source": [
    "### Q1.1\n",
    "\n",
    "#### How many NaN values are there in the dataset?"
   ]
  },
  {
   "cell_type": "code",
   "execution_count": 6,
   "metadata": {},
   "outputs": [
    {
     "data": {
      "text/plain": [
       "name                   4\n",
       "category               0\n",
       "main_category          0\n",
       "currency               0\n",
       "deadline               0\n",
       "goal                   0\n",
       "launched               0\n",
       "pledged                0\n",
       "state                  0\n",
       "backers                0\n",
       "country                0\n",
       "usd pledged         3797\n",
       "usd_pledged_real       0\n",
       "usd_goal_real          0\n",
       "dtype: int64"
      ]
     },
     "execution_count": 6,
     "metadata": {},
     "output_type": "execute_result"
    }
   ],
   "source": [
    "df.isnull().sum()"
   ]
  },
  {
   "cell_type": "code",
   "execution_count": 7,
   "metadata": {},
   "outputs": [
    {
     "data": {
      "text/plain": [
       "3801"
      ]
     },
     "execution_count": 7,
     "metadata": {},
     "output_type": "execute_result"
    }
   ],
   "source": [
    "3797 + 4"
   ]
  },
  {
   "cell_type": "code",
   "execution_count": 9,
   "metadata": {},
   "outputs": [],
   "source": [
    "df.dropna(axis=0, inplace=True)"
   ]
  },
  {
   "cell_type": "markdown",
   "metadata": {},
   "source": [
    "----"
   ]
  },
  {
   "cell_type": "markdown",
   "metadata": {},
   "source": [
    "----"
   ]
  },
  {
   "cell_type": "markdown",
   "metadata": {},
   "source": [
    "Let us simplify the task a little bit: we are aiming to predict either project fails or not.\n",
    "Thus 'success' projects will be encoded as 1, with state ['failed', 'canceled'] as 0 and we remove the rows with any other state.\n",
    "\n",
    "### Q1.2 \n",
    "#### How many '1' values are in resulting dataset (in state column)?"
   ]
  },
  {
   "cell_type": "code",
   "execution_count": 11,
   "metadata": {},
   "outputs": [],
   "source": [
    "df[['state']] = df[['state']].replace('failed', 0)"
   ]
  },
  {
   "cell_type": "code",
   "execution_count": 12,
   "metadata": {},
   "outputs": [],
   "source": [
    "df[['state']] = df[['state']].replace('canceled', 0)"
   ]
  },
  {
   "cell_type": "code",
   "execution_count": 13,
   "metadata": {},
   "outputs": [],
   "source": [
    "df[['state']] = df[['state']].replace('successful', 1)"
   ]
  },
  {
   "cell_type": "code",
   "execution_count": 14,
   "metadata": {},
   "outputs": [],
   "source": [
    "# df[['state']] = df[['state']].replace('live', 1)"
   ]
  },
  {
   "cell_type": "code",
   "execution_count": 15,
   "metadata": {},
   "outputs": [],
   "source": [
    "df.drop( df[ df['state'] == 'undefined' ].index, inplace=True)"
   ]
  },
  {
   "cell_type": "code",
   "execution_count": 16,
   "metadata": {},
   "outputs": [],
   "source": [
    "df.drop( df[ df['state'] == 'live' ].index, inplace=True)"
   ]
  },
  {
   "cell_type": "code",
   "execution_count": 17,
   "metadata": {},
   "outputs": [],
   "source": [
    "df.drop( df[ df['state'] == 'suspended' ].index, inplace=True)"
   ]
  },
  {
   "cell_type": "code",
   "execution_count": 20,
   "metadata": {},
   "outputs": [
    {
     "data": {
      "text/plain": [
       "0    236368\n",
       "1    133851\n",
       "Name: state, dtype: int64"
      ]
     },
     "execution_count": 20,
     "metadata": {},
     "output_type": "execute_result"
    }
   ],
   "source": [
    "df.state.value_counts()"
   ]
  },
  {
   "cell_type": "code",
   "execution_count": 21,
   "metadata": {},
   "outputs": [
    {
     "data": {
      "text/plain": [
       "370219"
      ]
     },
     "execution_count": 21,
     "metadata": {},
     "output_type": "execute_result"
    }
   ],
   "source": [
    "df.state.value_counts().sum()"
   ]
  },
  {
   "cell_type": "markdown",
   "metadata": {},
   "source": [
    "-----"
   ]
  },
  {
   "cell_type": "markdown",
   "metadata": {},
   "source": [
    "------"
   ]
  },
  {
   "cell_type": "markdown",
   "metadata": {},
   "source": [
    "### Q1.3\n",
    "#### Which project attracted the biggest pay check? (on average)"
   ]
  },
  {
   "cell_type": "code",
   "execution_count": 22,
   "metadata": {},
   "outputs": [],
   "source": [
    "k = df.drop( df[ df['backers'] == 0 ].index)"
   ]
  },
  {
   "cell_type": "code",
   "execution_count": 23,
   "metadata": {},
   "outputs": [],
   "source": [
    "k['result'] = k[['usd_pledged_real', 'backers']].apply(lambda x: x[0]/x[1], axis=1)"
   ]
  },
  {
   "cell_type": "code",
   "execution_count": 24,
   "metadata": {},
   "outputs": [
    {
     "data": {
      "text/plain": [
       "10000.0"
      ]
     },
     "execution_count": 24,
     "metadata": {},
     "output_type": "execute_result"
    }
   ],
   "source": [
    "k.result.max()"
   ]
  },
  {
   "cell_type": "code",
   "execution_count": 26,
   "metadata": {},
   "outputs": [
    {
     "data": {
      "text/html": [
       "<div>\n",
       "<style scoped>\n",
       "    .dataframe tbody tr th:only-of-type {\n",
       "        vertical-align: middle;\n",
       "    }\n",
       "\n",
       "    .dataframe tbody tr th {\n",
       "        vertical-align: top;\n",
       "    }\n",
       "\n",
       "    .dataframe thead th {\n",
       "        text-align: right;\n",
       "    }\n",
       "</style>\n",
       "<table border=\"1\" class=\"dataframe\">\n",
       "  <thead>\n",
       "    <tr style=\"text-align: right;\">\n",
       "      <th></th>\n",
       "      <th>name</th>\n",
       "      <th>result</th>\n",
       "    </tr>\n",
       "    <tr>\n",
       "      <th>ID</th>\n",
       "      <th></th>\n",
       "      <th></th>\n",
       "    </tr>\n",
       "  </thead>\n",
       "  <tbody>\n",
       "    <tr>\n",
       "      <th>1459482568</th>\n",
       "      <td>Patented (9 seasons) food enhancer</td>\n",
       "      <td>10000.0</td>\n",
       "    </tr>\n",
       "    <tr>\n",
       "      <th>1767293256</th>\n",
       "      <td>KIRISUTOS PACHYDERM</td>\n",
       "      <td>10000.0</td>\n",
       "    </tr>\n",
       "    <tr>\n",
       "      <th>1974395971</th>\n",
       "      <td>21st CENTURY MEDICAL PRACTICE SYSTEM THAT CHAN...</td>\n",
       "      <td>10000.0</td>\n",
       "    </tr>\n",
       "    <tr>\n",
       "      <th>2024799289</th>\n",
       "      <td>The Commoner Princess</td>\n",
       "      <td>10000.0</td>\n",
       "    </tr>\n",
       "    <tr>\n",
       "      <th>281085395</th>\n",
       "      <td>\"SUNBURN\" - starring Michael Madsen, indie act...</td>\n",
       "      <td>10000.0</td>\n",
       "    </tr>\n",
       "    <tr>\n",
       "      <th>472233286</th>\n",
       "      <td>Hollow Earth Project, Journey to the center of...</td>\n",
       "      <td>10000.0</td>\n",
       "    </tr>\n",
       "    <tr>\n",
       "      <th>642968820</th>\n",
       "      <td>Nobody: The Movie (Canceled)</td>\n",
       "      <td>10000.0</td>\n",
       "    </tr>\n",
       "    <tr>\n",
       "      <th>889803741</th>\n",
       "      <td>Post Traumatic Stress (PTSD) Affects Us All</td>\n",
       "      <td>10000.0</td>\n",
       "    </tr>\n",
       "    <tr>\n",
       "      <th>912587650</th>\n",
       "      <td>The Hare On The Chair - An Easter Legend</td>\n",
       "      <td>10000.0</td>\n",
       "    </tr>\n",
       "  </tbody>\n",
       "</table>\n",
       "</div>"
      ],
      "text/plain": [
       "                                                         name   result\n",
       "ID                                                                    \n",
       "1459482568                 Patented (9 seasons) food enhancer  10000.0\n",
       "1767293256                                KIRISUTOS PACHYDERM  10000.0\n",
       "1974395971  21st CENTURY MEDICAL PRACTICE SYSTEM THAT CHAN...  10000.0\n",
       "2024799289                              The Commoner Princess  10000.0\n",
       "281085395   \"SUNBURN\" - starring Michael Madsen, indie act...  10000.0\n",
       "472233286   Hollow Earth Project, Journey to the center of...  10000.0\n",
       "642968820                        Nobody: The Movie (Canceled)  10000.0\n",
       "889803741         Post Traumatic Stress (PTSD) Affects Us All  10000.0\n",
       "912587650            The Hare On The Chair - An Easter Legend  10000.0"
      ]
     },
     "execution_count": 26,
     "metadata": {},
     "output_type": "execute_result"
    }
   ],
   "source": [
    "_k = k[k['result'] == k.result.max()]\n",
    "_k[['name', 'result']]"
   ]
  },
  {
   "cell_type": "markdown",
   "metadata": {},
   "source": [
    "-----"
   ]
  },
  {
   "cell_type": "markdown",
   "metadata": {},
   "source": [
    "-----"
   ]
  },
  {
   "cell_type": "markdown",
   "metadata": {},
   "source": [
    "### Q1.4\n",
    "#### What is the most successful main category (in terms of relative success)?"
   ]
  },
  {
   "cell_type": "code",
   "execution_count": 27,
   "metadata": {},
   "outputs": [],
   "source": [
    "z = df[['main_category', 'state']].copy()"
   ]
  },
  {
   "cell_type": "code",
   "execution_count": 28,
   "metadata": {},
   "outputs": [],
   "source": [
    "z['state'] = z['state'].apply(pd.to_numeric)"
   ]
  },
  {
   "cell_type": "code",
   "execution_count": 29,
   "metadata": {},
   "outputs": [
    {
     "data": {
      "text/html": [
       "<div>\n",
       "<style scoped>\n",
       "    .dataframe tbody tr th:only-of-type {\n",
       "        vertical-align: middle;\n",
       "    }\n",
       "\n",
       "    .dataframe tbody tr th {\n",
       "        vertical-align: top;\n",
       "    }\n",
       "\n",
       "    .dataframe thead th {\n",
       "        text-align: right;\n",
       "    }\n",
       "</style>\n",
       "<table border=\"1\" class=\"dataframe\">\n",
       "  <thead>\n",
       "    <tr style=\"text-align: right;\">\n",
       "      <th></th>\n",
       "      <th>state</th>\n",
       "    </tr>\n",
       "    <tr>\n",
       "      <th>main_category</th>\n",
       "      <th></th>\n",
       "    </tr>\n",
       "  </thead>\n",
       "  <tbody>\n",
       "    <tr>\n",
       "      <th>Dance</th>\n",
       "      <td>0.625803</td>\n",
       "    </tr>\n",
       "    <tr>\n",
       "      <th>Theater</th>\n",
       "      <td>0.602212</td>\n",
       "    </tr>\n",
       "    <tr>\n",
       "      <th>Comics</th>\n",
       "      <td>0.544963</td>\n",
       "    </tr>\n",
       "    <tr>\n",
       "      <th>Music</th>\n",
       "      <td>0.490927</td>\n",
       "    </tr>\n",
       "    <tr>\n",
       "      <th>Art</th>\n",
       "      <td>0.413107</td>\n",
       "    </tr>\n",
       "    <tr>\n",
       "      <th>Film &amp; Video</th>\n",
       "      <td>0.379328</td>\n",
       "    </tr>\n",
       "    <tr>\n",
       "      <th>Games</th>\n",
       "      <td>0.360552</td>\n",
       "    </tr>\n",
       "    <tr>\n",
       "      <th>Design</th>\n",
       "      <td>0.357411</td>\n",
       "    </tr>\n",
       "    <tr>\n",
       "      <th>Publishing</th>\n",
       "      <td>0.315271</td>\n",
       "    </tr>\n",
       "    <tr>\n",
       "      <th>Photography</th>\n",
       "      <td>0.309602</td>\n",
       "    </tr>\n",
       "    <tr>\n",
       "      <th>Food</th>\n",
       "      <td>0.250793</td>\n",
       "    </tr>\n",
       "    <tr>\n",
       "      <th>Fashion</th>\n",
       "      <td>0.249420</td>\n",
       "    </tr>\n",
       "    <tr>\n",
       "      <th>Crafts</th>\n",
       "      <td>0.244198</td>\n",
       "    </tr>\n",
       "    <tr>\n",
       "      <th>Journalism</th>\n",
       "      <td>0.216656</td>\n",
       "    </tr>\n",
       "    <tr>\n",
       "      <th>Technology</th>\n",
       "      <td>0.202544</td>\n",
       "    </tr>\n",
       "  </tbody>\n",
       "</table>\n",
       "</div>"
      ],
      "text/plain": [
       "                  state\n",
       "main_category          \n",
       "Dance          0.625803\n",
       "Theater        0.602212\n",
       "Comics         0.544963\n",
       "Music          0.490927\n",
       "Art            0.413107\n",
       "Film & Video   0.379328\n",
       "Games          0.360552\n",
       "Design         0.357411\n",
       "Publishing     0.315271\n",
       "Photography    0.309602\n",
       "Food           0.250793\n",
       "Fashion        0.249420\n",
       "Crafts         0.244198\n",
       "Journalism     0.216656\n",
       "Technology     0.202544"
      ]
     },
     "execution_count": 29,
     "metadata": {},
     "output_type": "execute_result"
    }
   ],
   "source": [
    "z.groupby(by='main_category')[['state']].mean().sort_values(by=['state'], ascending=False)"
   ]
  },
  {
   "cell_type": "markdown",
   "metadata": {},
   "source": [
    "-----"
   ]
  },
  {
   "cell_type": "markdown",
   "metadata": {},
   "source": [
    "-----"
   ]
  },
  {
   "cell_type": "markdown",
   "metadata": {
    "jupyter": {
     "outputs_hidden": true
    }
   },
   "source": [
    "### Q1.5\n",
    "#### How much times the most expensive (relatively) category (not main_category) met in the dataset?"
   ]
  },
  {
   "cell_type": "code",
   "execution_count": 30,
   "metadata": {},
   "outputs": [
    {
     "data": {
      "text/html": [
       "<div>\n",
       "<style scoped>\n",
       "    .dataframe tbody tr th:only-of-type {\n",
       "        vertical-align: middle;\n",
       "    }\n",
       "\n",
       "    .dataframe tbody tr th {\n",
       "        vertical-align: top;\n",
       "    }\n",
       "\n",
       "    .dataframe thead th {\n",
       "        text-align: right;\n",
       "    }\n",
       "</style>\n",
       "<table border=\"1\" class=\"dataframe\">\n",
       "  <thead>\n",
       "    <tr style=\"text-align: right;\">\n",
       "      <th></th>\n",
       "      <th>goal</th>\n",
       "    </tr>\n",
       "    <tr>\n",
       "      <th>category</th>\n",
       "      <th></th>\n",
       "    </tr>\n",
       "  </thead>\n",
       "  <tbody>\n",
       "    <tr>\n",
       "      <th>Movie Theaters</th>\n",
       "      <td>1.594601e+06</td>\n",
       "    </tr>\n",
       "    <tr>\n",
       "      <th>Space Exploration</th>\n",
       "      <td>6.245547e+05</td>\n",
       "    </tr>\n",
       "    <tr>\n",
       "      <th>Fantasy</th>\n",
       "      <td>6.216058e+05</td>\n",
       "    </tr>\n",
       "    <tr>\n",
       "      <th>Architecture</th>\n",
       "      <td>4.765797e+05</td>\n",
       "    </tr>\n",
       "    <tr>\n",
       "      <th>Science Fiction</th>\n",
       "      <td>4.299817e+05</td>\n",
       "    </tr>\n",
       "    <tr>\n",
       "      <th>...</th>\n",
       "      <td>...</td>\n",
       "    </tr>\n",
       "    <tr>\n",
       "      <th>Candles</th>\n",
       "      <td>5.678515e+03</td>\n",
       "    </tr>\n",
       "    <tr>\n",
       "      <th>Poetry</th>\n",
       "      <td>5.342948e+03</td>\n",
       "    </tr>\n",
       "    <tr>\n",
       "      <th>Stationery</th>\n",
       "      <td>4.213168e+03</td>\n",
       "    </tr>\n",
       "    <tr>\n",
       "      <th>Taxidermy</th>\n",
       "      <td>4.187636e+03</td>\n",
       "    </tr>\n",
       "    <tr>\n",
       "      <th>Crochet</th>\n",
       "      <td>3.781049e+03</td>\n",
       "    </tr>\n",
       "  </tbody>\n",
       "</table>\n",
       "<p>159 rows × 1 columns</p>\n",
       "</div>"
      ],
      "text/plain": [
       "                           goal\n",
       "category                       \n",
       "Movie Theaters     1.594601e+06\n",
       "Space Exploration  6.245547e+05\n",
       "Fantasy            6.216058e+05\n",
       "Architecture       4.765797e+05\n",
       "Science Fiction    4.299817e+05\n",
       "...                         ...\n",
       "Candles            5.678515e+03\n",
       "Poetry             5.342948e+03\n",
       "Stationery         4.213168e+03\n",
       "Taxidermy          4.187636e+03\n",
       "Crochet            3.781049e+03\n",
       "\n",
       "[159 rows x 1 columns]"
      ]
     },
     "execution_count": 30,
     "metadata": {},
     "output_type": "execute_result"
    }
   ],
   "source": [
    "df.groupby(by='category')[['goal']].mean().sort_values(by=['goal'], ascending=False)"
   ]
  },
  {
   "cell_type": "code",
   "execution_count": 31,
   "metadata": {},
   "outputs": [
    {
     "data": {
      "text/plain": [
       "Movie Theaters    227\n",
       "Name: category, dtype: int64"
      ]
     },
     "execution_count": 31,
     "metadata": {},
     "output_type": "execute_result"
    }
   ],
   "source": [
    "df[df['category'] == 'Movie Theaters'].category.value_counts()"
   ]
  },
  {
   "cell_type": "markdown",
   "metadata": {},
   "source": [
    "-----"
   ]
  },
  {
   "cell_type": "markdown",
   "metadata": {},
   "source": [
    "-----"
   ]
  },
  {
   "cell_type": "markdown",
   "metadata": {},
   "source": [
    "### Q1.6\n",
    "#### What is the category with biggest total pledge? Use 'usd_pledged_real' to judge."
   ]
  },
  {
   "cell_type": "code",
   "execution_count": 32,
   "metadata": {},
   "outputs": [
    {
     "data": {
      "text/html": [
       "<div>\n",
       "<style scoped>\n",
       "    .dataframe tbody tr th:only-of-type {\n",
       "        vertical-align: middle;\n",
       "    }\n",
       "\n",
       "    .dataframe tbody tr th {\n",
       "        vertical-align: top;\n",
       "    }\n",
       "\n",
       "    .dataframe thead th {\n",
       "        text-align: right;\n",
       "    }\n",
       "</style>\n",
       "<table border=\"1\" class=\"dataframe\">\n",
       "  <thead>\n",
       "    <tr style=\"text-align: right;\">\n",
       "      <th></th>\n",
       "      <th>usd_pledged_real</th>\n",
       "    </tr>\n",
       "    <tr>\n",
       "      <th>category</th>\n",
       "      <th></th>\n",
       "    </tr>\n",
       "  </thead>\n",
       "  <tbody>\n",
       "    <tr>\n",
       "      <th>Product Design</th>\n",
       "      <td>6.284380e+08</td>\n",
       "    </tr>\n",
       "    <tr>\n",
       "      <th>Tabletop Games</th>\n",
       "      <td>4.625848e+08</td>\n",
       "    </tr>\n",
       "    <tr>\n",
       "      <th>Video Games</th>\n",
       "      <td>2.157557e+08</td>\n",
       "    </tr>\n",
       "    <tr>\n",
       "      <th>Hardware</th>\n",
       "      <td>1.540924e+08</td>\n",
       "    </tr>\n",
       "    <tr>\n",
       "      <th>Documentary</th>\n",
       "      <td>1.387601e+08</td>\n",
       "    </tr>\n",
       "    <tr>\n",
       "      <th>...</th>\n",
       "      <td>...</td>\n",
       "    </tr>\n",
       "    <tr>\n",
       "      <th>Literary Spaces</th>\n",
       "      <td>1.891494e+05</td>\n",
       "    </tr>\n",
       "    <tr>\n",
       "      <th>Quilts</th>\n",
       "      <td>1.704812e+05</td>\n",
       "    </tr>\n",
       "    <tr>\n",
       "      <th>Embroidery</th>\n",
       "      <td>9.480322e+04</td>\n",
       "    </tr>\n",
       "    <tr>\n",
       "      <th>Crochet</th>\n",
       "      <td>4.820144e+04</td>\n",
       "    </tr>\n",
       "    <tr>\n",
       "      <th>Taxidermy</th>\n",
       "      <td>3.742699e+04</td>\n",
       "    </tr>\n",
       "  </tbody>\n",
       "</table>\n",
       "<p>159 rows × 1 columns</p>\n",
       "</div>"
      ],
      "text/plain": [
       "                 usd_pledged_real\n",
       "category                         \n",
       "Product Design       6.284380e+08\n",
       "Tabletop Games       4.625848e+08\n",
       "Video Games          2.157557e+08\n",
       "Hardware             1.540924e+08\n",
       "Documentary          1.387601e+08\n",
       "...                           ...\n",
       "Literary Spaces      1.891494e+05\n",
       "Quilts               1.704812e+05\n",
       "Embroidery           9.480322e+04\n",
       "Crochet              4.820144e+04\n",
       "Taxidermy            3.742699e+04\n",
       "\n",
       "[159 rows x 1 columns]"
      ]
     },
     "execution_count": 32,
     "metadata": {},
     "output_type": "execute_result"
    }
   ],
   "source": [
    "df.groupby(by='category')[['usd_pledged_real']].sum().sort_values(by=['usd_pledged_real'], ascending=False)"
   ]
  },
  {
   "cell_type": "code",
   "execution_count": 33,
   "metadata": {},
   "outputs": [],
   "source": [
    "# Product Design"
   ]
  },
  {
   "cell_type": "markdown",
   "metadata": {},
   "source": [
    "------"
   ]
  },
  {
   "cell_type": "markdown",
   "metadata": {},
   "source": [
    "------"
   ]
  },
  {
   "cell_type": "markdown",
   "metadata": {},
   "source": [
    "As one can notice, there are both numerical and object-type data in our dataframe. \n",
    "\n",
    "We suggest you to split them to perform EDA separately. \n",
    "\n",
    "### Q1.7\n",
    "#### Split columns to 'numeric' (by data type) and object-type. How many 'object-type' features are there?"
   ]
  },
  {
   "cell_type": "code",
   "execution_count": 34,
   "metadata": {},
   "outputs": [
    {
     "data": {
      "text/plain": [
       "object     8\n",
       "float64    5\n",
       "int64      1\n",
       "dtype: int64"
      ]
     },
     "execution_count": 34,
     "metadata": {},
     "output_type": "execute_result"
    }
   ],
   "source": [
    "df.dtypes.value_counts()"
   ]
  },
  {
   "cell_type": "code",
   "execution_count": 35,
   "metadata": {},
   "outputs": [
    {
     "data": {
      "text/plain": [
       "name                 object\n",
       "category             object\n",
       "main_category        object\n",
       "currency             object\n",
       "deadline             object\n",
       "goal                float64\n",
       "launched             object\n",
       "pledged             float64\n",
       "state                object\n",
       "backers               int64\n",
       "country              object\n",
       "usd pledged         float64\n",
       "usd_pledged_real    float64\n",
       "usd_goal_real       float64\n",
       "dtype: object"
      ]
     },
     "execution_count": 35,
     "metadata": {},
     "output_type": "execute_result"
    }
   ],
   "source": [
    "df.dtypes"
   ]
  },
  {
   "cell_type": "markdown",
   "metadata": {},
   "source": [
    "### Q1.8\n",
    "Let's do a bit of feature engineering. Pay attention to plenged / goal ratio. How many outliers are there?\n",
    "(We use a simple rule: an object is an outlier if it does not belong to [q25 - 1.5iqr, q75 + 1.5 iqr] interval, where qxx -- xx quantile, and iqr is inter-quantile range.)"
   ]
  },
  {
   "cell_type": "code",
   "execution_count": 36,
   "metadata": {},
   "outputs": [],
   "source": [
    "df['pledge2goal'] = df[['pledged', 'goal']].apply(lambda x: x[0]/x[1], axis=1)"
   ]
  },
  {
   "cell_type": "code",
   "execution_count": 37,
   "metadata": {},
   "outputs": [],
   "source": [
    "Q1 = df['pledge2goal'].quantile(.25)\n",
    "Q3 = df['pledge2goal'].quantile(.75)\n",
    "IQR = Q3 - Q1"
   ]
  },
  {
   "cell_type": "code",
   "execution_count": 38,
   "metadata": {},
   "outputs": [
    {
     "data": {
      "text/plain": [
       "(0.0048, 1.0666666666666667)"
      ]
     },
     "execution_count": 38,
     "metadata": {},
     "output_type": "execute_result"
    }
   ],
   "source": [
    "Q1, Q3"
   ]
  },
  {
   "cell_type": "code",
   "execution_count": 39,
   "metadata": {},
   "outputs": [
    {
     "data": {
      "text/plain": [
       "17814"
      ]
     },
     "execution_count": 39,
     "metadata": {},
     "output_type": "execute_result"
    }
   ],
   "source": [
    "((df['pledge2goal'] < (Q1 - 1.5 * IQR)) | (df['pledge2goal'] > (Q3 + 1.5 * IQR))).sum()"
   ]
  },
  {
   "cell_type": "code",
   "execution_count": 40,
   "metadata": {},
   "outputs": [
    {
     "data": {
      "text/plain": [
       "(352405, 15)"
      ]
     },
     "execution_count": 40,
     "metadata": {},
     "output_type": "execute_result"
    }
   ],
   "source": [
    "n = df.query('(@Q1 - 1.5 * @IQR) <= pledge2goal <= (@Q3 + 1.5 * @IQR)')\n",
    "n.shape"
   ]
  },
  {
   "cell_type": "code",
   "execution_count": 37,
   "metadata": {},
   "outputs": [
    {
     "data": {
      "text/plain": [
       "ID\n",
       "1119122774    1.000000e-08\n",
       "1168153740    0.000000e+00\n",
       "1279992058    1.300000e-07\n",
       "1370542565    1.150000e-06\n",
       "1371612630    0.000000e+00\n",
       "1395179504    2.000000e-08\n",
       "1481016469    0.000000e+00\n",
       "1485385229    2.270000e-06\n",
       "1601563193    1.000000e-08\n",
       "1654077554    1.950000e-05\n",
       "1720842777    0.000000e+00\n",
       "1806062709    1.000000e-08\n",
       "1815288309    0.000000e+00\n",
       "2000749004    0.000000e+00\n",
       "2075450016    2.000000e-07\n",
       "2083255961    5.600000e-07\n",
       "208731425     5.900000e-07\n",
       "2094346154    0.000000e+00\n",
       "2132015082    3.600000e-07\n",
       "2137925650    0.000000e+00\n",
       "219702078     0.000000e+00\n",
       "308045282     1.000000e-08\n",
       "379409641     1.000000e-08\n",
       "388031956     1.000000e-08\n",
       "487345242     0.000000e+00\n",
       "499583381     1.000000e-08\n",
       "601594365     1.000000e-08\n",
       "794141191     3.577000e-05\n",
       "813343172     0.000000e+00\n",
       "843636303     1.400000e-07\n",
       "941328479     0.000000e+00\n",
       "944541075     2.000000e-08\n",
       "953415668     1.000000e-07\n",
       "962949560     0.000000e+00\n",
       "Name: pledge2goal, dtype: float64"
      ]
     },
     "execution_count": 37,
     "metadata": {},
     "output_type": "execute_result"
    }
   ],
   "source": [
    "n[n['goal'] == n['goal'].max()]['pledge2goal']"
   ]
  },
  {
   "cell_type": "code",
   "execution_count": 41,
   "metadata": {},
   "outputs": [
    {
     "data": {
      "text/plain": [
       "100000000.0"
      ]
     },
     "execution_count": 41,
     "metadata": {},
     "output_type": "execute_result"
    }
   ],
   "source": [
    "n['goal'].max()"
   ]
  },
  {
   "cell_type": "markdown",
   "metadata": {},
   "source": [
    "### Q1.9\n",
    "#### Visualize the feature for success and fail cases. What can you say about received distributions? (use bins=10 or 20). Type letter as your answer\n",
    "- A. Distributions intersect significantly, hard to say for sure that the ratio matters.\n",
    "- B. Distributions have almost no intersection, the bigger ratio, the bigger success.\n",
    "- C. Distributions have almost no intersection, the less ratio, the less success.\n",
    "- D. Distributions have almost no intersection, the less ratio, the bigger success."
   ]
  },
  {
   "cell_type": "code",
   "execution_count": 46,
   "metadata": {},
   "outputs": [],
   "source": [
    "_n = n[n['state'] == 0]"
   ]
  },
  {
   "cell_type": "code",
   "execution_count": 47,
   "metadata": {},
   "outputs": [],
   "source": [
    "n_ = n[n['state'] == 1]"
   ]
  },
  {
   "cell_type": "code",
   "execution_count": 48,
   "metadata": {},
   "outputs": [
    {
     "data": {
      "image/png": "[encoded data removed]",
      "text/plain": [
       "<Figure size 792x504 with 1 Axes>"
      ]
     },
     "metadata": {},
     "output_type": "display_data"
    }
   ],
   "source": [
    "plt.figure(figsize=(11,7))\n",
    "plt.hist(_n['pledge2goal'], bins = 10, label='plenged/goal ratio when state = 0')\n",
    "plt.hist(n_['pledge2goal'], bins = 10, label='plenged/goal ratio when state = 1')\n",
    "plt.title(\"Plenged/goal ratio\")\n",
    "plt.xlabel('Ratio values')\n",
    "plt.ylabel('quantity')\n",
    "plt.legend()\n",
    "plt.show()"
   ]
  },
  {
   "cell_type": "code",
   "execution_count": 49,
   "metadata": {},
   "outputs": [],
   "source": [
    "# Answer: B,C"
   ]
  },
  {
   "cell_type": "markdown",
   "metadata": {},
   "source": [
    "-----"
   ]
  },
  {
   "cell_type": "markdown",
   "metadata": {},
   "source": [
    "-----"
   ]
  },
  {
   "cell_type": "markdown",
   "metadata": {},
   "source": [
    "### Q1.10\n",
    "#### Where are the peaks located?"
   ]
  },
  {
   "cell_type": "code",
   "execution_count": 50,
   "metadata": {},
   "outputs": [
    {
     "data": {
      "text/plain": [
       "(1, 0)"
      ]
     },
     "execution_count": 50,
     "metadata": {},
     "output_type": "execute_result"
    }
   ],
   "source": [
    "1,0"
   ]
  },
  {
   "cell_type": "markdown",
   "metadata": {},
   "source": [
    "-----"
   ]
  },
  {
   "cell_type": "markdown",
   "metadata": {},
   "source": [
    "-----"
   ]
  },
  {
   "cell_type": "markdown",
   "metadata": {},
   "source": [
    "### Q1.11\n",
    "#### Compute Pearson correlation coefficiton between the ratio and target variable. (Round up to second digit after point)"
   ]
  },
  {
   "cell_type": "code",
   "execution_count": 51,
   "metadata": {},
   "outputs": [],
   "source": [
    "l = n.copy()\n",
    "l[\"state\"] = l[\"state\"].astype(bool)"
   ]
  },
  {
   "cell_type": "code",
   "execution_count": 52,
   "metadata": {},
   "outputs": [
    {
     "data": {
      "text/html": [
       "<div>\n",
       "<style scoped>\n",
       "    .dataframe tbody tr th:only-of-type {\n",
       "        vertical-align: middle;\n",
       "    }\n",
       "\n",
       "    .dataframe tbody tr th {\n",
       "        vertical-align: top;\n",
       "    }\n",
       "\n",
       "    .dataframe thead th {\n",
       "        text-align: right;\n",
       "    }\n",
       "</style>\n",
       "<table border=\"1\" class=\"dataframe\">\n",
       "  <thead>\n",
       "    <tr style=\"text-align: right;\">\n",
       "      <th></th>\n",
       "      <th>state</th>\n",
       "      <th>pledge2goal</th>\n",
       "    </tr>\n",
       "  </thead>\n",
       "  <tbody>\n",
       "    <tr>\n",
       "      <th>state</th>\n",
       "      <td>1.00000</td>\n",
       "      <td>0.91574</td>\n",
       "    </tr>\n",
       "    <tr>\n",
       "      <th>pledge2goal</th>\n",
       "      <td>0.91574</td>\n",
       "      <td>1.00000</td>\n",
       "    </tr>\n",
       "  </tbody>\n",
       "</table>\n",
       "</div>"
      ],
      "text/plain": [
       "               state  pledge2goal\n",
       "state        1.00000      0.91574\n",
       "pledge2goal  0.91574      1.00000"
      ]
     },
     "execution_count": 52,
     "metadata": {},
     "output_type": "execute_result"
    }
   ],
   "source": [
    "l[['state', 'pledge2goal']].corr(method='pearson')"
   ]
  },
  {
   "cell_type": "code",
   "execution_count": 53,
   "metadata": {},
   "outputs": [
    {
     "data": {
      "text/plain": [
       "0.92"
      ]
     },
     "execution_count": 53,
     "metadata": {},
     "output_type": "execute_result"
    }
   ],
   "source": [
    "round(0.915736, 2)"
   ]
  },
  {
   "cell_type": "markdown",
   "metadata": {},
   "source": [
    "----"
   ]
  },
  {
   "cell_type": "markdown",
   "metadata": {},
   "source": [
    "-----"
   ]
  },
  {
   "cell_type": "markdown",
   "metadata": {},
   "source": [
    "### Q1.12\n",
    "#### Visualize dependancy of numerical data with success. What do you think of it?"
   ]
  },
  {
   "cell_type": "code",
   "execution_count": 54,
   "metadata": {},
   "outputs": [],
   "source": [
    "o = l[['goal', 'pledged', 'backers', 'usd pledged', 'usd_pledged_real', 'usd_goal_real', 'pledge2goal', 'state']].copy()"
   ]
  },
  {
   "cell_type": "code",
   "execution_count": 55,
   "metadata": {},
   "outputs": [],
   "source": [
    "_o = n[n['state'] == 0]\n",
    "o_ = n[n['state'] == 1]"
   ]
  },
  {
   "cell_type": "code",
   "execution_count": 56,
   "metadata": {},
   "outputs": [
    {
     "data": {
      "image/png": "[encoded data removed]",
      "text/plain": [
       "<Figure size 1440x504 with 2 Axes>"
      ]
     },
     "metadata": {},
     "output_type": "display_data"
    }
   ],
   "source": [
    "fig, ax = plt.subplots(1, 2, figsize=(20,7))\n",
    "ax[0].hist(_o['goal'], bins=10, label='goal when state = 1', log=True, color='c')\n",
    "ax[1].hist(o_['goal'], bins=10, label='goal when state = 0', log=True, color='m')\n",
    "plt.title(\"Dependancy of goal data with success\")\n",
    "plt.xlabel('Goal values')\n",
    "plt.ylabel('Quantity')\n",
    "plt.legend()\n",
    "plt.show()"
   ]
  },
  {
   "cell_type": "code",
   "execution_count": null,
   "metadata": {},
   "outputs": [],
   "source": [
    "# Not a very good relationship, as the signs overlap rather poorly. To be more precise - one enters the other"
   ]
  },
  {
   "cell_type": "code",
   "execution_count": 50,
   "metadata": {},
   "outputs": [
    {
     "data": {
      "image/png": "[encoded data removed]",
      "text/plain": [
       "<Figure size 720x432 with 1 Axes>"
      ]
     },
     "metadata": {},
     "output_type": "display_data"
    }
   ],
   "source": [
    "plt.figure(figsize=(10,6))\n",
    "plt.hist(o_['pledged'], bins=10, label='pledged when state = 0', log=True, color='c')\n",
    "plt.hist(_o['pledged'], bins=10, label='pledged ratio when state = 1', log=True, alpha = 0.5, color='m')\n",
    "plt.title(\"Dependancy of pledged data with success\")\n",
    "plt.xlabel('Pledged values')\n",
    "plt.ylabel('Quantity')\n",
    "plt.legend()\n",
    "plt.show()"
   ]
  },
  {
   "cell_type": "code",
   "execution_count": null,
   "metadata": {},
   "outputs": [],
   "source": [
    "# Pretty good relationship"
   ]
  },
  {
   "cell_type": "code",
   "execution_count": 51,
   "metadata": {},
   "outputs": [
    {
     "data": {
      "image/png": "[encoded data removed]",
      "text/plain": [
       "<Figure size 720x432 with 1 Axes>"
      ]
     },
     "metadata": {},
     "output_type": "display_data"
    }
   ],
   "source": [
    "plt.figure(figsize=(10,6))\n",
    "plt.hist(o_['usd pledged'], bins=10, label='usd pledged when state = 0', log=True, color='c')\n",
    "plt.hist(_o['usd pledged'], bins=5, label='usd pledged ratio when state = 1', log=True, alpha = 0.5, color='m')\n",
    "plt.title(\"Dependancy of usd pledged data with success\")\n",
    "plt.xlabel('Usd pledged values')\n",
    "plt.ylabel('Quantity')\n",
    "plt.legend()\n",
    "plt.show()"
   ]
  },
  {
   "cell_type": "code",
   "execution_count": null,
   "metadata": {},
   "outputs": [],
   "source": [
    "# Not a very good and not a very bad addiction. \n",
    "#As you can see from the graph, there are values where the features do not intersect, this is not very good"
   ]
  },
  {
   "cell_type": "code",
   "execution_count": 52,
   "metadata": {},
   "outputs": [
    {
     "data": {
      "image/png": "[encoded data removed]",
      "text/plain": [
       "<Figure size 720x432 with 1 Axes>"
      ]
     },
     "metadata": {},
     "output_type": "display_data"
    }
   ],
   "source": [
    "plt.figure(figsize=(10,6))\n",
    "plt.hist(o_['usd_pledged_real'], bins=10, label='usd_pledged_real when state = 0', log=True, color='c')\n",
    "plt.hist(_o['usd_pledged_real'], bins=5, label='usd_pledged_real ratio when state = 1', log=True, alpha = 0.5, color='m')\n",
    "plt.title(\"Dependancy of usd_pledged_real data with success\")\n",
    "plt.xlabel('Usd_pledged_real values')\n",
    "plt.ylabel('quantity')\n",
    "plt.legend()\n",
    "plt.show()"
   ]
  },
  {
   "cell_type": "code",
   "execution_count": null,
   "metadata": {},
   "outputs": [],
   "source": [
    "# Not a very good and not a very bad addiction. \n",
    "#As you can see from the graph, there are values where the features do not intersect, this is not very good"
   ]
  },
  {
   "cell_type": "code",
   "execution_count": 53,
   "metadata": {},
   "outputs": [
    {
     "data": {
      "image/png": "[encoded data removed]",
      "text/plain": [
       "<Figure size 720x432 with 1 Axes>"
      ]
     },
     "metadata": {},
     "output_type": "display_data"
    }
   ],
   "source": [
    "plt.figure(figsize=(10,6))\n",
    "plt.hist(o_['backers'], bins=10, label='backers when state = 0', log=True, color='c')\n",
    "plt.hist(_o['backers'], bins=4, label='backers ratio when state = 1', log=True, alpha = 0.5, color='m')\n",
    "plt.title(\"Dependancy of backers data with success\")\n",
    "plt.xlabel('Backers values')\n",
    "plt.ylabel('quantity')\n",
    "plt.legend()\n",
    "plt.show()"
   ]
  },
  {
   "cell_type": "code",
   "execution_count": null,
   "metadata": {},
   "outputs": [],
   "source": [
    "# Not a very good and not a very bad addiction. \n",
    "#As you can see from the graph, there are values where the features do not intersect, this is not very good"
   ]
  },
  {
   "cell_type": "code",
   "execution_count": 54,
   "metadata": {},
   "outputs": [
    {
     "data": {
      "image/png": "[encoded data removed]",
      "text/plain": [
       "<Figure size 1440x504 with 2 Axes>"
      ]
     },
     "metadata": {},
     "output_type": "display_data"
    }
   ],
   "source": [
    "fig, ax = plt.subplots(1, 2, figsize=(20,7))\n",
    "ax[0].hist(_o['usd_goal_real'], bins=10, label='usd_goal_real when state = 1', log=True, color='c')\n",
    "ax[1].hist(o_['usd_goal_real'], bins=10, label='usd_goal_real when state = 0', log=True, color='m')\n",
    "plt.title(\"Dependancy of usd_goal_real data with success\")\n",
    "plt.xlabel('Usd_goal_real values')\n",
    "plt.ylabel('Quantity')\n",
    "plt.legend()\n",
    "plt.show()"
   ]
  },
  {
   "cell_type": "code",
   "execution_count": null,
   "metadata": {},
   "outputs": [],
   "source": [
    "# Not a very good relationship, as the signs overlap rather poorly. To be more precise - one enters the other"
   ]
  },
  {
   "cell_type": "code",
   "execution_count": 56,
   "metadata": {},
   "outputs": [
    {
     "data": {
      "image/png": "[encoded data removed]",
      "text/plain": [
       "<Figure size 720x432 with 1 Axes>"
      ]
     },
     "metadata": {},
     "output_type": "display_data"
    }
   ],
   "source": [
    "plt.figure(figsize=(10,6))\n",
    "plt.hist(o_['pledge2goal'], bins=7, label='pledge2goal when state = 0', log=True, color='c')\n",
    "plt.hist(_o['pledge2goal'], bins=10, label='pledge2goal ratio when state = 1', log=True, alpha = 0.5, color='m')\n",
    "plt.title(\"Dependancy of pledge2goal data with success\")\n",
    "plt.xlabel('Pledge2goal values')\n",
    "plt.ylabel('quantity')\n",
    "plt.legend()\n",
    "plt.show()"
   ]
  },
  {
   "cell_type": "code",
   "execution_count": null,
   "metadata": {},
   "outputs": [],
   "source": [
    "# good but not enough. The model can be retrained"
   ]
  },
  {
   "cell_type": "markdown",
   "metadata": {},
   "source": [
    "# Feature generation\n",
    "Lets' generate some more feature that could be useful"
   ]
  },
  {
   "cell_type": "markdown",
   "metadata": {},
   "source": [
    "### Q2.1 Create a year column that would hold the year. How many projects were in year 2012?"
   ]
  },
  {
   "cell_type": "code",
   "execution_count": 57,
   "metadata": {},
   "outputs": [],
   "source": [
    "df['launched'] = pd.to_datetime(df['launched'])\n",
    "df['year'] = df.launched.dt.year"
   ]
  },
  {
   "cell_type": "code",
   "execution_count": 58,
   "metadata": {},
   "outputs": [
    {
     "data": {
      "text/plain": [
       "name                41109\n",
       "category            41109\n",
       "main_category       41109\n",
       "currency            41109\n",
       "deadline            41109\n",
       "goal                41109\n",
       "launched            41109\n",
       "pledged             41109\n",
       "state               41109\n",
       "backers             41109\n",
       "country             41109\n",
       "usd pledged         41109\n",
       "usd_pledged_real    41109\n",
       "usd_goal_real       41109\n",
       "pledge2goal         41109\n",
       "year                41109\n",
       "dtype: int64"
      ]
     },
     "execution_count": 58,
     "metadata": {},
     "output_type": "execute_result"
    }
   ],
   "source": [
    "df[df['year'] == 2012].count()"
   ]
  },
  {
   "cell_type": "markdown",
   "metadata": {},
   "source": [
    "### Q2.2 Make a column 'duration_days' with number of full days from launch to deadline.\n",
    "What is median value for this column?"
   ]
  },
  {
   "cell_type": "code",
   "execution_count": 59,
   "metadata": {},
   "outputs": [],
   "source": [
    "df['deadline'] = pd.to_datetime(df['deadline'])"
   ]
  },
  {
   "cell_type": "code",
   "execution_count": 60,
   "metadata": {},
   "outputs": [],
   "source": [
    "df['deadline'] = pd.to_datetime(df['deadline'])\n",
    "df['duration_days'] = df['deadline'] - df['launched']"
   ]
  },
  {
   "cell_type": "code",
   "execution_count": 61,
   "metadata": {},
   "outputs": [],
   "source": [
    "df['duration_days'] = df['duration_days'].astype('timedelta64[D]')"
   ]
  },
  {
   "cell_type": "code",
   "execution_count": 62,
   "metadata": {},
   "outputs": [
    {
     "data": {
      "text/plain": [
       "29.0"
      ]
     },
     "execution_count": 62,
     "metadata": {},
     "output_type": "execute_result"
    }
   ],
   "source": [
    "df['duration_days'].median()"
   ]
  },
  {
   "cell_type": "markdown",
   "metadata": {},
   "source": [
    "### Q2.3 Delete mistaken value from column 'country'. What is the value?"
   ]
  },
  {
   "cell_type": "code",
   "execution_count": 63,
   "metadata": {},
   "outputs": [
    {
     "data": {
      "text/plain": [
       "US    289669\n",
       "GB     33214\n",
       "CA     14508\n",
       "AU      7681\n",
       "DE      4057\n",
       "FR      2873\n",
       "NL      2807\n",
       "IT      2775\n",
       "ES      2204\n",
       "SE      1718\n",
       "MX      1632\n",
       "NZ      1425\n",
       "DK      1083\n",
       "IE       793\n",
       "CH       736\n",
       "NO       694\n",
       "BE       597\n",
       "AT       576\n",
       "HK       564\n",
       "SG       521\n",
       "LU        61\n",
       "JP        31\n",
       "Name: country, dtype: int64"
      ]
     },
     "execution_count": 63,
     "metadata": {},
     "output_type": "execute_result"
    }
   ],
   "source": [
    "df['country'].value_counts()"
   ]
  },
  {
   "cell_type": "code",
   "execution_count": 64,
   "metadata": {},
   "outputs": [],
   "source": [
    "# Comment: Mistaken value from column 'country' is N,0 But in point 1.1 I deleted all NAS's, so I didn't have an erroneous value in the \"country\" column. If you return the NAN's, you can see N,0"
   ]
  },
  {
   "cell_type": "markdown",
   "metadata": {},
   "source": [
    "### Q2.4 Make column 'region' out of column country (america, europe, asia, oceania(including australiza/nz))\n",
    "Where is the region with the worst conversion rate (percentage of successful projects)"
   ]
  },
  {
   "cell_type": "code",
   "execution_count": 65,
   "metadata": {},
   "outputs": [],
   "source": [
    "df['region'] = df[['country']].copy()"
   ]
  },
  {
   "cell_type": "code",
   "execution_count": 66,
   "metadata": {},
   "outputs": [],
   "source": [
    "df['region'] = df[['region']].replace('GB', 'Europe')\n",
    "df['region'] = df[['region']].replace('US', 'America')\n",
    "df['region'] = df[['region']].replace('CA', 'America')\n",
    "df['region'] = df[['region']].replace('AU', 'Oceania')\n",
    "df['region'] = df[['region']].replace('NO', 'Europe')\n",
    "df['region'] = df[['region']].replace('IT', 'Asia')\n",
    "df['region'] = df[['region']].replace('DE', 'Europe')\n",
    "df['region'] = df[['region']].replace('IE', 'Europe')\n",
    "df['region'] = df[['region']].replace('MX', 'America')\n",
    "df['region'] = df[['region']].replace('ES', 'Europe')\n",
    "df['region'] = df[['region']].replace('SE', 'Europe')\n",
    "df['region'] = df[['region']].replace('FR', 'Europe')\n",
    "df['region'] = df[['region']].replace('NL', 'Europe')\n",
    "df['region'] = df[['region']].replace('NZ', 'Oceania')\n",
    "df['region'] = df[['region']].replace('CH', 'Europe')\n",
    "df['region'] = df[['region']].replace('AT', 'Europe')\n",
    "df['region'] = df[['region']].replace('BE', 'Europe')\n",
    "df['region'] = df[['region']].replace('DK', 'Asia')\n",
    "df['region'] = df[['region']].replace('HK', 'Asia')\n",
    "df['region'] = df[['region']].replace('LU', 'Europe')\n",
    "df['region'] = df[['region']].replace('SG', 'Asia')\n",
    "df['region'] = df[['region']].replace('JP', 'Asia')"
   ]
  },
  {
   "cell_type": "code",
   "execution_count": 67,
   "metadata": {},
   "outputs": [],
   "source": [
    "z = df[['region', 'state']].copy()\n",
    "z['state'] = z['state'].apply(pd.to_numeric)"
   ]
  },
  {
   "cell_type": "code",
   "execution_count": 68,
   "metadata": {},
   "outputs": [
    {
     "data": {
      "text/html": [
       "<div>\n",
       "<style scoped>\n",
       "    .dataframe tbody tr th:only-of-type {\n",
       "        vertical-align: middle;\n",
       "    }\n",
       "\n",
       "    .dataframe tbody tr th {\n",
       "        vertical-align: top;\n",
       "    }\n",
       "\n",
       "    .dataframe thead th {\n",
       "        text-align: right;\n",
       "    }\n",
       "</style>\n",
       "<table border=\"1\" class=\"dataframe\">\n",
       "  <thead>\n",
       "    <tr style=\"text-align: right;\">\n",
       "      <th></th>\n",
       "      <th>state</th>\n",
       "    </tr>\n",
       "    <tr>\n",
       "      <th>region</th>\n",
       "      <th></th>\n",
       "    </tr>\n",
       "  </thead>\n",
       "  <tbody>\n",
       "    <tr>\n",
       "      <th>Asia</th>\n",
       "      <td>0.241255</td>\n",
       "    </tr>\n",
       "    <tr>\n",
       "      <th>Oceania</th>\n",
       "      <td>0.269932</td>\n",
       "    </tr>\n",
       "    <tr>\n",
       "      <th>Europe</th>\n",
       "      <td>0.325134</td>\n",
       "    </tr>\n",
       "    <tr>\n",
       "      <th>America</th>\n",
       "      <td>0.372223</td>\n",
       "    </tr>\n",
       "  </tbody>\n",
       "</table>\n",
       "</div>"
      ],
      "text/plain": [
       "            state\n",
       "region           \n",
       "Asia     0.241255\n",
       "Oceania  0.269932\n",
       "Europe   0.325134\n",
       "America  0.372223"
      ]
     },
     "execution_count": 68,
     "metadata": {},
     "output_type": "execute_result"
    }
   ],
   "source": [
    "z.groupby(by='region')[['state']].mean().sort_values(by=['state'])"
   ]
  },
  {
   "cell_type": "markdown",
   "metadata": {},
   "source": [
    "### Q2.5 For each main_category leave only the three most popular category and replace other with \"other\"\n",
    "What is the most frequent subcategory for design?"
   ]
  },
  {
   "cell_type": "code",
   "execution_count": 69,
   "metadata": {},
   "outputs": [],
   "source": [
    "a = df.copy()"
   ]
  },
  {
   "cell_type": "code",
   "execution_count": 70,
   "metadata": {},
   "outputs": [],
   "source": [
    "_df = a.groupby(['main_category'])['category'].apply(lambda x: x.value_counts().nlargest(3))\n",
    "largest_cats = _df.to_dict()"
   ]
  },
  {
   "cell_type": "code",
   "execution_count": 71,
   "metadata": {},
   "outputs": [],
   "source": [
    "def other(x):\n",
    "    for key in largest_cats.keys():\n",
    "        if x == key[1]:\n",
    "            return x\n",
    "    return 'other'"
   ]
  },
  {
   "cell_type": "code",
   "execution_count": 72,
   "metadata": {},
   "outputs": [],
   "source": [
    "a['category'] = a.apply(lambda x: other(x.category), axis = 1)"
   ]
  },
  {
   "cell_type": "code",
   "execution_count": 73,
   "metadata": {},
   "outputs": [],
   "source": [
    "_df = a[a['main_category'] == 'Design']"
   ]
  },
  {
   "cell_type": "code",
   "execution_count": 74,
   "metadata": {},
   "outputs": [
    {
     "data": {
      "text/plain": [
       "'Product Design'"
      ]
     },
     "execution_count": 74,
     "metadata": {},
     "output_type": "execute_result"
    }
   ],
   "source": [
    "_df['category'].value_counts().index[0]"
   ]
  },
  {
   "cell_type": "markdown",
   "metadata": {},
   "source": [
    "## Q2.6 create the columns \"name_length\" with length of the name.\n",
    "What is the biggets length?"
   ]
  },
  {
   "cell_type": "code",
   "execution_count": 75,
   "metadata": {},
   "outputs": [],
   "source": [
    "df['name_length'] = df['name'].str.len()"
   ]
  },
  {
   "cell_type": "code",
   "execution_count": 76,
   "metadata": {},
   "outputs": [
    {
     "data": {
      "text/plain": [
       "96"
      ]
     },
     "execution_count": 76,
     "metadata": {},
     "output_type": "execute_result"
    }
   ],
   "source": [
    "df['name_length'].max()"
   ]
  },
  {
   "cell_type": "markdown",
   "metadata": {},
   "source": [
    "# Preprocessing"
   ]
  },
  {
   "cell_type": "markdown",
   "metadata": {},
   "source": [
    "### Q3.1 Drop the leaking columns\n",
    "Based on what we have already seen, can you assume what features are leakeges? What is the columns? Drop them\n"
   ]
  },
  {
   "cell_type": "raw",
   "metadata": {},
   "source": [
    "# We should drop pledge2goal because distributions have almost no intersection, Thus, due to this feature, the model will be retrained\n",
    "# I also thought that I could decide that there are 3 features of leaking columns: But I plotted the historama and saw that their distribution intersected well. So I decided it was not a leak, but a good features."
   ]
  },
  {
   "cell_type": "code",
   "execution_count": 77,
   "metadata": {},
   "outputs": [],
   "source": [
    "# name : name of project // name: название проекта\n",
    "# main_category : category of campaign // main_category: категория кампании\n",
    "# currency : currency used to support // валюта: валюта, используемая для поддержки\n",
    "# deadline : deadline for crowdfunding // крайний срок: крайний срок для краудфандинга\n",
    "# goal : fundraising goal // цель: цель сбора средств\n",
    "# launched : date launched // запущен: дата запуска\n",
    "# pledged : amount pledged by crowd // заложено: сумма, заложенная толпой\n",
    "# state : current condition the project is in // состояние: текущее состояние, в котором находится проект\n",
    "# backers : number of backers // спонсоры: количество спонсоров\n",
    "# country : country pledged from // страна: страна заложенная от\n",
    "# usd pledged : amount of money pledged // usd pledged: сумма залога\n",
    "# usd_pledged_real : conversion in US dollars of the pledged column // usd_pledged_real: конвертация в доллары США заложенного столбца\n",
    "# usd_goal_real : conversion in US dollars of the goal column // usd_goal_real: преобразование в долларах США столбца цели"
   ]
  },
  {
   "cell_type": "code",
   "execution_count": 78,
   "metadata": {},
   "outputs": [],
   "source": [
    "df = df.drop(columns=['pledge2goal'])"
   ]
  },
  {
   "cell_type": "markdown",
   "metadata": {},
   "source": [
    "### Q3.2 Deal with the categorical features.\n",
    "Lets drop some more columns for now (name, deadline, launched, country, usd_goal_real). Note: you can re-use these columns in the Q5 section. \n",
    "Preprocess the rest of categorical columns. How many columns do you have now?"
   ]
  },
  {
   "cell_type": "code",
   "execution_count": 79,
   "metadata": {},
   "outputs": [],
   "source": [
    "df = df.drop(columns=['name', 'deadline', 'launched', 'country', 'usd_goal_real', 'name_length'])"
   ]
  },
  {
   "cell_type": "code",
   "execution_count": 80,
   "metadata": {},
   "outputs": [],
   "source": [
    "# I also drop 'name_length' column because its give no infomation"
   ]
  },
  {
   "cell_type": "code",
   "execution_count": 81,
   "metadata": {},
   "outputs": [],
   "source": [
    "from sklearn.preprocessing import LabelEncoder\n",
    "\n",
    "cat_features = ['category', 'main_category', 'currency', 'region']\n",
    "\n",
    "encoder = LabelEncoder()\n",
    "\n",
    "df[cat_features] = df[cat_features].apply(encoder.fit_transform)"
   ]
  },
  {
   "cell_type": "code",
   "execution_count": 82,
   "metadata": {},
   "outputs": [
    {
     "data": {
      "text/plain": [
       "(370219, 12)"
      ]
     },
     "execution_count": 82,
     "metadata": {},
     "output_type": "execute_result"
    }
   ],
   "source": [
    "df.shape"
   ]
  },
  {
   "cell_type": "markdown",
   "metadata": {},
   "source": [
    "### Q3.3 Split the dataset\n",
    "Separate the target column (state) without stratification and with random state 42 and test size 0.2. How many of successful projects in train set?"
   ]
  },
  {
   "cell_type": "code",
   "execution_count": 83,
   "metadata": {},
   "outputs": [],
   "source": [
    "from sklearn.model_selection import train_test_split"
   ]
  },
  {
   "cell_type": "code",
   "execution_count": 84,
   "metadata": {},
   "outputs": [],
   "source": [
    "X = df.drop('state', axis=1, inplace=False)\n",
    "Y = df[['state']]"
   ]
  },
  {
   "cell_type": "code",
   "execution_count": 85,
   "metadata": {},
   "outputs": [],
   "source": [
    "X_train, X_test, y_train, y_test = train_test_split(X, Y, test_size=0.2, random_state=42)"
   ]
  },
  {
   "cell_type": "code",
   "execution_count": 86,
   "metadata": {},
   "outputs": [
    {
     "data": {
      "text/plain": [
       "(107134, 1)"
      ]
     },
     "execution_count": 86,
     "metadata": {},
     "output_type": "execute_result"
    }
   ],
   "source": [
    "y_train[y_train['state'] == 1].shape"
   ]
  },
  {
   "cell_type": "markdown",
   "metadata": {},
   "source": [
    "### Q3.4 Scale the numeric columns with standard scaler\n",
    "What is max number in goal field after scaling?"
   ]
  },
  {
   "cell_type": "code",
   "execution_count": 87,
   "metadata": {},
   "outputs": [],
   "source": [
    "from sklearn.preprocessing import StandardScaler"
   ]
  },
  {
   "cell_type": "code",
   "execution_count": 88,
   "metadata": {
    "collapsed": true,
    "jupyter": {
     "outputs_hidden": true
    }
   },
   "outputs": [
    {
     "name": "stderr",
     "output_type": "stream",
     "text": [
      "/home/artem/anaconda3/lib/python3.7/site-packages/ipykernel_launcher.py:1: SettingWithCopyWarning: \n",
      "A value is trying to be set on a copy of a slice from a DataFrame.\n",
      "Try using .loc[row_indexer,col_indexer] = value instead\n",
      "\n",
      "See the caveats in the documentation: https://pandas.pydata.org/pandas-docs/stable/user_guide/indexing.html#returning-a-view-versus-a-copy\n",
      "  \"\"\"Entry point for launching an IPython kernel.\n",
      "/home/artem/anaconda3/lib/python3.7/site-packages/pandas/core/indexing.py:965: SettingWithCopyWarning: \n",
      "A value is trying to be set on a copy of a slice from a DataFrame.\n",
      "Try using .loc[row_indexer,col_indexer] = value instead\n",
      "\n",
      "See the caveats in the documentation: https://pandas.pydata.org/pandas-docs/stable/user_guide/indexing.html#returning-a-view-versus-a-copy\n",
      "  self.obj[item] = s\n"
     ]
    }
   ],
   "source": [
    "X_train[['goal', 'pledged', 'backers', 'usd pledged', 'usd_pledged_real']] = StandardScaler().fit_transform(X_train[['goal', 'pledged', 'backers', 'usd pledged', 'usd_pledged_real']])"
   ]
  },
  {
   "cell_type": "code",
   "execution_count": 93,
   "metadata": {
    "collapsed": true,
    "jupyter": {
     "outputs_hidden": true
    }
   },
   "outputs": [
    {
     "name": "stderr",
     "output_type": "stream",
     "text": [
      "/home/artem/anaconda3/lib/python3.7/site-packages/ipykernel_launcher.py:1: SettingWithCopyWarning: \n",
      "A value is trying to be set on a copy of a slice from a DataFrame.\n",
      "Try using .loc[row_indexer,col_indexer] = value instead\n",
      "\n",
      "See the caveats in the documentation: https://pandas.pydata.org/pandas-docs/stable/user_guide/indexing.html#returning-a-view-versus-a-copy\n",
      "  \"\"\"Entry point for launching an IPython kernel.\n",
      "/home/artem/anaconda3/lib/python3.7/site-packages/pandas/core/indexing.py:965: SettingWithCopyWarning: \n",
      "A value is trying to be set on a copy of a slice from a DataFrame.\n",
      "Try using .loc[row_indexer,col_indexer] = value instead\n",
      "\n",
      "See the caveats in the documentation: https://pandas.pydata.org/pandas-docs/stable/user_guide/indexing.html#returning-a-view-versus-a-copy\n",
      "  self.obj[item] = s\n"
     ]
    }
   ],
   "source": [
    "X_test[['goal', 'pledged', 'backers', 'usd pledged', 'usd_pledged_real']] = StandardScaler().fit_transform(X_test[['goal', 'pledged', 'backers', 'usd pledged', 'usd_pledged_real']])"
   ]
  },
  {
   "cell_type": "code",
   "execution_count": 94,
   "metadata": {},
   "outputs": [
    {
     "data": {
      "text/plain": [
       "93.26426315218663"
      ]
     },
     "execution_count": 94,
     "metadata": {},
     "output_type": "execute_result"
    }
   ],
   "source": [
    "X_train['goal'].max()"
   ]
  },
  {
   "cell_type": "code",
   "execution_count": 95,
   "metadata": {},
   "outputs": [
    {
     "data": {
      "text/plain": [
       "68.38043436286037"
      ]
     },
     "execution_count": 95,
     "metadata": {},
     "output_type": "execute_result"
    }
   ],
   "source": [
    "X_test['goal'].max()"
   ]
  },
  {
   "cell_type": "markdown",
   "metadata": {},
   "source": [
    "# Feature selection"
   ]
  },
  {
   "cell_type": "markdown",
   "metadata": {},
   "source": [
    "### Q4.1 Estimate feature importance by Anova\n",
    "What is the two most important features by anova with f classifier?"
   ]
  },
  {
   "cell_type": "code",
   "execution_count": 96,
   "metadata": {},
   "outputs": [],
   "source": [
    "from sklearn.feature_selection import f_classif\n",
    "from sklearn.feature_selection import SelectKBest"
   ]
  },
  {
   "cell_type": "code",
   "execution_count": 97,
   "metadata": {},
   "outputs": [],
   "source": [
    "X_train_numerical = X_train.select_dtypes(exclude=['object', 'int64'])"
   ]
  },
  {
   "cell_type": "code",
   "execution_count": 98,
   "metadata": {},
   "outputs": [
    {
     "data": {
      "text/plain": [
       "SelectKBest(k='all', score_func=<function f_classif at 0x7f51377a8c20>)"
      ]
     },
     "execution_count": 98,
     "metadata": {},
     "output_type": "execute_result"
    }
   ],
   "source": [
    "fs = SelectKBest(score_func=f_classif, k='all')\n",
    "fs.fit(X_train_numerical, y_train['state'].tolist())"
   ]
  },
  {
   "cell_type": "code",
   "execution_count": 99,
   "metadata": {},
   "outputs": [
    {
     "name": "stdout",
     "output_type": "stream",
     "text": [
      "Feature goal: 196.70351403316963\n",
      "Feature pledged: 4180.7359922801\n",
      "Feature backers: 4948.1779216469995\n",
      "Feature usd pledged: 3346.9514116710643\n",
      "Feature usd_pledged_real: 4202.167956342883\n",
      "Feature duration_days: 226.80518274581678\n"
     ]
    },
    {
     "data": {
      "image/png": "[encoded data removed]",
      "text/plain": [
       "<Figure size 432x288 with 1 Axes>"
      ]
     },
     "metadata": {},
     "output_type": "display_data"
    }
   ],
   "source": [
    "for i in range(len(fs.scores_)):\n",
    "    print(f'Feature {X_train_numerical.columns[i]}: {fs.scores_[i]}')\n",
    "plt.bar([i for i in range(len(fs.scores_))], fs.scores_)\n",
    "plt.show()"
   ]
  },
  {
   "cell_type": "code",
   "execution_count": 100,
   "metadata": {},
   "outputs": [],
   "source": [
    "# Most important feature: backers\n",
    "# Second most important feature: usd_pledged_real"
   ]
  },
  {
   "cell_type": "markdown",
   "metadata": {},
   "source": [
    "------"
   ]
  },
  {
   "cell_type": "markdown",
   "metadata": {},
   "source": [
    "------"
   ]
  },
  {
   "cell_type": "markdown",
   "metadata": {},
   "source": [
    "## Build a model with logistic regression\n",
    "\n",
    "Use l2 penalty and search for optimal C in np.logspace(-2, 4, 7)."
   ]
  },
  {
   "cell_type": "code",
   "execution_count": 101,
   "metadata": {},
   "outputs": [],
   "source": [
    "import numpy as np\n",
    "from sklearn.model_selection import GridSearchCV\n",
    "from sklearn.model_selection import KFold\n",
    "from sklearn.linear_model import LogisticRegression\n",
    "from sklearn.metrics import accuracy_score"
   ]
  },
  {
   "cell_type": "code",
   "execution_count": 102,
   "metadata": {},
   "outputs": [
    {
     "data": {
      "text/plain": [
       "GridSearchCV(cv=KFold(n_splits=5, random_state=42, shuffle=True),\n",
       "             error_score=nan,\n",
       "             estimator=LogisticRegression(C=1.0, class_weight=None, dual=False,\n",
       "                                          fit_intercept=True,\n",
       "                                          intercept_scaling=1, l1_ratio=None,\n",
       "                                          max_iter=1000, multi_class='auto',\n",
       "                                          n_jobs=None, penalty='l2',\n",
       "                                          random_state=42, solver='lbfgs',\n",
       "                                          tol=0.0001, verbose=0,\n",
       "                                          warm_start=False),\n",
       "             iid='deprecated', n_jobs=-1,\n",
       "             param_grid={'C': array([1.e-02, 1.e-01, 1.e+00, 1.e+01, 1.e+02, 1.e+03, 1.e+04])},\n",
       "             pre_dispatch='2*n_jobs', refit=True, return_train_score=False,\n",
       "             scoring='accuracy', verbose=0)"
      ]
     },
     "execution_count": 102,
     "metadata": {},
     "output_type": "execute_result"
    }
   ],
   "source": [
    "seed = 42\n",
    "\n",
    "cv = KFold(n_splits=5, shuffle=True, random_state=seed)\n",
    "\n",
    "clf = LogisticRegression(penalty='l2', random_state=seed, max_iter=1000)\n",
    "\n",
    "grid = {\n",
    "    'C': np.logspace(-2, 4, 7)\n",
    "}\n",
    "\n",
    "log_gs = GridSearchCV(clf, param_grid=grid, cv=cv, scoring='accuracy', n_jobs=-1)\n",
    "log_gs.fit(X_train, y_train['state'].values.astype(int))"
   ]
  },
  {
   "cell_type": "code",
   "execution_count": 103,
   "metadata": {},
   "outputs": [
    {
     "data": {
      "text/plain": [
       "LogisticRegression(C=10.0, class_weight=None, dual=False, fit_intercept=True,\n",
       "                   intercept_scaling=1, l1_ratio=None, max_iter=1000,\n",
       "                   multi_class='auto', n_jobs=None, penalty='l2',\n",
       "                   random_state=42, solver='lbfgs', tol=0.0001, verbose=0,\n",
       "                   warm_start=False)"
      ]
     },
     "execution_count": 103,
     "metadata": {},
     "output_type": "execute_result"
    }
   ],
   "source": [
    "log_gs.best_estimator_"
   ]
  },
  {
   "cell_type": "markdown",
   "metadata": {},
   "source": [
    "### Q4.2 What is an optimal C for l2 regularization?"
   ]
  },
  {
   "cell_type": "code",
   "execution_count": 104,
   "metadata": {},
   "outputs": [],
   "source": [
    "# Optimal C is the biggest value among offered logspace: C = 10"
   ]
  },
  {
   "cell_type": "markdown",
   "metadata": {},
   "source": [
    "### Q4.3 What is the accuracy for this params?"
   ]
  },
  {
   "cell_type": "markdown",
   "metadata": {},
   "source": [
    "#### Train accuracy"
   ]
  },
  {
   "cell_type": "code",
   "execution_count": 105,
   "metadata": {},
   "outputs": [],
   "source": [
    "all_splits_res = []\n",
    "for i in range(5):\n",
    "    split = f'split{i}_test_score'\n",
    "    split_res = log_gs.cv_results_[split]\n",
    "    all_splits_res.append(split_res)"
   ]
  },
  {
   "cell_type": "code",
   "execution_count": 106,
   "metadata": {},
   "outputs": [
    {
     "data": {
      "text/plain": [
       "array([0.77751329, 0.7940238 , 0.80988942, 0.82992488, 0.81233392,\n",
       "       0.82967165, 0.81107453])"
      ]
     },
     "execution_count": 106,
     "metadata": {},
     "output_type": "execute_result"
    }
   ],
   "source": [
    "np.array(all_splits_res).mean(axis=0)"
   ]
  },
  {
   "cell_type": "code",
   "execution_count": 107,
   "metadata": {},
   "outputs": [
    {
     "data": {
      "text/html": [
       "<div>\n",
       "<style scoped>\n",
       "    .dataframe tbody tr th:only-of-type {\n",
       "        vertical-align: middle;\n",
       "    }\n",
       "\n",
       "    .dataframe tbody tr th {\n",
       "        vertical-align: top;\n",
       "    }\n",
       "\n",
       "    .dataframe thead th {\n",
       "        text-align: right;\n",
       "    }\n",
       "</style>\n",
       "<table border=\"1\" class=\"dataframe\">\n",
       "  <thead>\n",
       "    <tr style=\"text-align: right;\">\n",
       "      <th></th>\n",
       "      <th>C</th>\n",
       "      <th>accuracy</th>\n",
       "    </tr>\n",
       "  </thead>\n",
       "  <tbody>\n",
       "    <tr>\n",
       "      <th>0</th>\n",
       "      <td>0.01</td>\n",
       "      <td>0.777513</td>\n",
       "    </tr>\n",
       "    <tr>\n",
       "      <th>1</th>\n",
       "      <td>0.10</td>\n",
       "      <td>0.794024</td>\n",
       "    </tr>\n",
       "    <tr>\n",
       "      <th>2</th>\n",
       "      <td>1.00</td>\n",
       "      <td>0.809889</td>\n",
       "    </tr>\n",
       "    <tr>\n",
       "      <th>3</th>\n",
       "      <td>10.00</td>\n",
       "      <td>0.829925</td>\n",
       "    </tr>\n",
       "    <tr>\n",
       "      <th>4</th>\n",
       "      <td>100.00</td>\n",
       "      <td>0.812334</td>\n",
       "    </tr>\n",
       "    <tr>\n",
       "      <th>5</th>\n",
       "      <td>1000.00</td>\n",
       "      <td>0.829672</td>\n",
       "    </tr>\n",
       "    <tr>\n",
       "      <th>6</th>\n",
       "      <td>10000.00</td>\n",
       "      <td>0.811075</td>\n",
       "    </tr>\n",
       "  </tbody>\n",
       "</table>\n",
       "</div>"
      ],
      "text/plain": [
       "          C  accuracy\n",
       "0      0.01  0.777513\n",
       "1      0.10  0.794024\n",
       "2      1.00  0.809889\n",
       "3     10.00  0.829925\n",
       "4    100.00  0.812334\n",
       "5   1000.00  0.829672\n",
       "6  10000.00  0.811075"
      ]
     },
     "execution_count": 107,
     "metadata": {},
     "output_type": "execute_result"
    }
   ],
   "source": [
    "pd.DataFrame.from_dict({'C': np.logspace(-2, 4, 7), 'accuracy': np.array(all_splits_res).mean(axis=0)})"
   ]
  },
  {
   "cell_type": "markdown",
   "metadata": {},
   "source": [
    "#### Test accuracy"
   ]
  },
  {
   "cell_type": "code",
   "execution_count": 108,
   "metadata": {},
   "outputs": [],
   "source": [
    "X_test_numerical = X_test.select_dtypes(exclude='object')\n",
    "y_test_pred = log_gs.best_estimator_.predict(X_test_numerical)"
   ]
  },
  {
   "cell_type": "code",
   "execution_count": 109,
   "metadata": {},
   "outputs": [
    {
     "data": {
      "text/plain": [
       "0.8191075576684134"
      ]
     },
     "execution_count": 109,
     "metadata": {},
     "output_type": "execute_result"
    }
   ],
   "source": [
    "accuracy_score(y_test['state'].values.astype(int), y_test_pred)"
   ]
  },
  {
   "cell_type": "markdown",
   "metadata": {},
   "source": [
    "### Q4.4 What is the two most important features by logistic regression estimation?"
   ]
  },
  {
   "cell_type": "code",
   "execution_count": 110,
   "metadata": {},
   "outputs": [],
   "source": [
    "logreg_coef_df = pd.DataFrame.from_dict({'feature': X_train.columns.tolist(), 'weight': map(abs, log_gs.best_estimator_.coef_.tolist()[0])})"
   ]
  },
  {
   "cell_type": "code",
   "execution_count": 111,
   "metadata": {},
   "outputs": [
    {
     "data": {
      "text/html": [
       "<div>\n",
       "<style scoped>\n",
       "    .dataframe tbody tr th:only-of-type {\n",
       "        vertical-align: middle;\n",
       "    }\n",
       "\n",
       "    .dataframe tbody tr th {\n",
       "        vertical-align: top;\n",
       "    }\n",
       "\n",
       "    .dataframe thead th {\n",
       "        text-align: right;\n",
       "    }\n",
       "</style>\n",
       "<table border=\"1\" class=\"dataframe\">\n",
       "  <thead>\n",
       "    <tr style=\"text-align: right;\">\n",
       "      <th></th>\n",
       "      <th>feature</th>\n",
       "      <th>weight</th>\n",
       "    </tr>\n",
       "  </thead>\n",
       "  <tbody>\n",
       "    <tr>\n",
       "      <th>3</th>\n",
       "      <td>goal</td>\n",
       "      <td>34.222307</td>\n",
       "    </tr>\n",
       "    <tr>\n",
       "      <th>5</th>\n",
       "      <td>backers</td>\n",
       "      <td>25.295515</td>\n",
       "    </tr>\n",
       "    <tr>\n",
       "      <th>7</th>\n",
       "      <td>usd_pledged_real</td>\n",
       "      <td>3.428832</td>\n",
       "    </tr>\n",
       "    <tr>\n",
       "      <th>4</th>\n",
       "      <td>pledged</td>\n",
       "      <td>1.012750</td>\n",
       "    </tr>\n",
       "    <tr>\n",
       "      <th>6</th>\n",
       "      <td>usd pledged</td>\n",
       "      <td>0.537413</td>\n",
       "    </tr>\n",
       "    <tr>\n",
       "      <th>2</th>\n",
       "      <td>currency</td>\n",
       "      <td>0.027196</td>\n",
       "    </tr>\n",
       "    <tr>\n",
       "      <th>9</th>\n",
       "      <td>duration_days</td>\n",
       "      <td>0.020706</td>\n",
       "    </tr>\n",
       "    <tr>\n",
       "      <th>1</th>\n",
       "      <td>main_category</td>\n",
       "      <td>0.006561</td>\n",
       "    </tr>\n",
       "    <tr>\n",
       "      <th>10</th>\n",
       "      <td>region</td>\n",
       "      <td>0.000701</td>\n",
       "    </tr>\n",
       "    <tr>\n",
       "      <th>0</th>\n",
       "      <td>category</td>\n",
       "      <td>0.000618</td>\n",
       "    </tr>\n",
       "    <tr>\n",
       "      <th>8</th>\n",
       "      <td>year</td>\n",
       "      <td>0.000240</td>\n",
       "    </tr>\n",
       "  </tbody>\n",
       "</table>\n",
       "</div>"
      ],
      "text/plain": [
       "             feature     weight\n",
       "3               goal  34.222307\n",
       "5            backers  25.295515\n",
       "7   usd_pledged_real   3.428832\n",
       "4            pledged   1.012750\n",
       "6        usd pledged   0.537413\n",
       "2           currency   0.027196\n",
       "9      duration_days   0.020706\n",
       "1      main_category   0.006561\n",
       "10            region   0.000701\n",
       "0           category   0.000618\n",
       "8               year   0.000240"
      ]
     },
     "execution_count": 111,
     "metadata": {},
     "output_type": "execute_result"
    }
   ],
   "source": [
    "logreg_coef_df.sort_values(by='weight', ascending=False)"
   ]
  },
  {
   "cell_type": "code",
   "execution_count": 112,
   "metadata": {},
   "outputs": [],
   "source": [
    "# Goal, backers"
   ]
  },
  {
   "cell_type": "markdown",
   "metadata": {},
   "source": [
    "### Q4.5 Build roc curve and calculate roc-auc score. What is the roc-auc score?"
   ]
  },
  {
   "cell_type": "markdown",
   "metadata": {},
   "source": [
    "#### Lets compute roc auc "
   ]
  },
  {
   "cell_type": "code",
   "execution_count": 113,
   "metadata": {},
   "outputs": [],
   "source": [
    "from sklearn.metrics import roc_auc_score, roc_curve"
   ]
  },
  {
   "cell_type": "code",
   "execution_count": 114,
   "metadata": {},
   "outputs": [],
   "source": [
    "y_test_pred = log_gs.best_estimator_.predict_proba(X_test)"
   ]
  },
  {
   "cell_type": "code",
   "execution_count": 115,
   "metadata": {},
   "outputs": [],
   "source": [
    "auc = roc_auc_score(y_test['state'].values.astype(int), y_test_pred[:,1])"
   ]
  },
  {
   "cell_type": "code",
   "execution_count": 116,
   "metadata": {},
   "outputs": [
    {
     "data": {
      "text/plain": [
       "0.9309596667203239"
      ]
     },
     "execution_count": 116,
     "metadata": {},
     "output_type": "execute_result"
    }
   ],
   "source": [
    "auc"
   ]
  },
  {
   "cell_type": "code",
   "execution_count": 117,
   "metadata": {},
   "outputs": [],
   "source": [
    "fpr, tpr, thresholds = roc_curve(y_test['state'].values.astype(int), y_test_pred[:,1])"
   ]
  },
  {
   "cell_type": "code",
   "execution_count": 118,
   "metadata": {},
   "outputs": [
    {
     "data": {
      "image/png": "[encoded data removed]",
      "text/plain": [
       "<Figure size 432x288 with 1 Axes>"
      ]
     },
     "metadata": {},
     "output_type": "display_data"
    }
   ],
   "source": [
    "plt.figure()\n",
    "plt.plot(fpr, tpr)\n",
    "plt.title('ROC curve for Logistic Regressiong Classifier')\n",
    "plt.show()"
   ]
  },
  {
   "cell_type": "markdown",
   "metadata": {},
   "source": [
    "\n",
    "------"
   ]
  },
  {
   "cell_type": "markdown",
   "metadata": {},
   "source": [
    "------"
   ]
  },
  {
   "cell_type": "markdown",
   "metadata": {},
   "source": [
    "## Build a random forest model\n",
    "Use random state 42, maximum depth from 2 to 15, and number of estimators in `[10, 20, 50, 100, 200]`"
   ]
  },
  {
   "cell_type": "code",
   "execution_count": 119,
   "metadata": {},
   "outputs": [],
   "source": [
    "from sklearn.ensemble import RandomForestClassifier"
   ]
  },
  {
   "cell_type": "code",
   "execution_count": 120,
   "metadata": {},
   "outputs": [
    {
     "name": "stderr",
     "output_type": "stream",
     "text": [
      "/home/artem/anaconda3/lib/python3.7/site-packages/joblib/externals/loky/process_executor.py:706: UserWarning: A worker stopped while some jobs were given to the executor. This can be caused by a too short worker timeout or by a memory leak.\n",
      "  \"timeout or by a memory leak.\", UserWarning\n"
     ]
    },
    {
     "data": {
      "text/plain": [
       "GridSearchCV(cv=None, error_score=nan,\n",
       "             estimator=RandomForestClassifier(bootstrap=True, ccp_alpha=0.0,\n",
       "                                              class_weight=None,\n",
       "                                              criterion='gini', max_depth=None,\n",
       "                                              max_features='auto',\n",
       "                                              max_leaf_nodes=None,\n",
       "                                              max_samples=None,\n",
       "                                              min_impurity_decrease=0.0,\n",
       "                                              min_impurity_split=None,\n",
       "                                              min_samples_leaf=1,\n",
       "                                              min_samples_split=2,\n",
       "                                              min_weight_fraction_leaf=0.0,\n",
       "                                              n_estimators=100, n_jobs=-1,\n",
       "                                              oob_score=False, random_state=42,\n",
       "                                              verbose=0, warm_start=False),\n",
       "             iid='deprecated', n_jobs=-1,\n",
       "             param_grid={'max_depth': range(2, 16),\n",
       "                         'n_estimators': [10, 20, 50, 100, 200]},\n",
       "             pre_dispatch='2*n_jobs', refit=True, return_train_score=False,\n",
       "             scoring=None, verbose=0)"
      ]
     },
     "execution_count": 120,
     "metadata": {},
     "output_type": "execute_result"
    }
   ],
   "source": [
    "seed = 42\n",
    "\n",
    "# cv = KFold(n_splits=5, shuffle=True, random_state=seed)\n",
    "\n",
    "clf = RandomForestClassifier(random_state=seed, n_jobs=-1)\n",
    "\n",
    "grid = {\n",
    "    'max_depth': range(2, 16, 1),\n",
    "    'n_estimators': [10, 20, 50, 100, 200]\n",
    "}\n",
    "\n",
    "rf_gs = GridSearchCV(clf, param_grid=grid, cv=None, n_jobs=-1)\n",
    "rf_gs.fit(X_train, y_train['state'].values.astype(int))"
   ]
  },
  {
   "cell_type": "markdown",
   "metadata": {},
   "source": [
    "### Q4.6 What is an optimal depth and number of trees?"
   ]
  },
  {
   "cell_type": "code",
   "execution_count": 121,
   "metadata": {},
   "outputs": [
    {
     "data": {
      "text/plain": [
       "RandomForestClassifier(bootstrap=True, ccp_alpha=0.0, class_weight=None,\n",
       "                       criterion='gini', max_depth=15, max_features='auto',\n",
       "                       max_leaf_nodes=None, max_samples=None,\n",
       "                       min_impurity_decrease=0.0, min_impurity_split=None,\n",
       "                       min_samples_leaf=1, min_samples_split=2,\n",
       "                       min_weight_fraction_leaf=0.0, n_estimators=100,\n",
       "                       n_jobs=-1, oob_score=False, random_state=42, verbose=0,\n",
       "                       warm_start=False)"
      ]
     },
     "execution_count": 121,
     "metadata": {},
     "output_type": "execute_result"
    }
   ],
   "source": [
    "rf_gs.best_estimator_"
   ]
  },
  {
   "cell_type": "code",
   "execution_count": 122,
   "metadata": {},
   "outputs": [],
   "source": [
    "# Optimal parameters for RandomForest: max_depth=15, n_estimators=100"
   ]
  },
  {
   "cell_type": "markdown",
   "metadata": {},
   "source": [
    "### Q4.7 What is the accuracy for this params?"
   ]
  },
  {
   "cell_type": "code",
   "execution_count": 123,
   "metadata": {},
   "outputs": [
    {
     "data": {
      "text/plain": [
       "0.7490951326238453"
      ]
     },
     "execution_count": 123,
     "metadata": {},
     "output_type": "execute_result"
    }
   ],
   "source": [
    "y_test_pred = rf_gs.best_estimator_.predict(X_test)\n",
    "accuracy_score(y_test['state'].values.astype(int), y_test_pred)"
   ]
  },
  {
   "cell_type": "markdown",
   "metadata": {},
   "source": [
    "### Q4.8 Build precision-recall curve. What is the precision for recall 0.5?"
   ]
  },
  {
   "cell_type": "code",
   "execution_count": 124,
   "metadata": {},
   "outputs": [],
   "source": [
    "from sklearn.metrics import precision_recall_curve"
   ]
  },
  {
   "cell_type": "code",
   "execution_count": 125,
   "metadata": {},
   "outputs": [],
   "source": [
    "precision, recall, thresholds = precision_recall_curve(y_test['state'].values.astype(int), y_test_pred)"
   ]
  },
  {
   "cell_type": "code",
   "execution_count": 128,
   "metadata": {},
   "outputs": [
    {
     "data": {
      "text/plain": [
       "array([1.       , 0.3077067, 0.       ])"
      ]
     },
     "execution_count": 128,
     "metadata": {},
     "output_type": "execute_result"
    }
   ],
   "source": [
    "recall"
   ]
  },
  {
   "cell_type": "code",
   "execution_count": 130,
   "metadata": {},
   "outputs": [
    {
     "data": {
      "text/plain": [
       "array([0.360826  , 0.99012405, 1.        ])"
      ]
     },
     "execution_count": 130,
     "metadata": {},
     "output_type": "execute_result"
    }
   ],
   "source": [
    "precision"
   ]
  },
  {
   "cell_type": "code",
   "execution_count": 131,
   "metadata": {},
   "outputs": [
    {
     "data": {
      "image/png": "[encoded data removed]",
      "text/plain": [
       "<Figure size 432x288 with 1 Axes>"
      ]
     },
     "metadata": {},
     "output_type": "display_data"
    }
   ],
   "source": [
    "plt.plot(recall, precision)\n",
    "plt.title('Precision-recall curve for RandomForestClassifier')\n",
    "plt.xlabel('Recall')\n",
    "plt.ylabel('Precision|')\n",
    "plt.show()"
   ]
  },
  {
   "cell_type": "markdown",
   "metadata": {},
   "source": [
    "### Q4.9 What is the two most important features by random forest?"
   ]
  },
  {
   "cell_type": "code",
   "execution_count": 132,
   "metadata": {},
   "outputs": [],
   "source": [
    "rf_coef_df = pd.DataFrame.from_dict({'feature': X_train.columns.tolist(), \n",
    "                                     'weight': rf_gs.best_estimator_.feature_importances_})"
   ]
  },
  {
   "cell_type": "code",
   "execution_count": 133,
   "metadata": {},
   "outputs": [
    {
     "data": {
      "text/html": [
       "<div>\n",
       "<style scoped>\n",
       "    .dataframe tbody tr th:only-of-type {\n",
       "        vertical-align: middle;\n",
       "    }\n",
       "\n",
       "    .dataframe tbody tr th {\n",
       "        vertical-align: top;\n",
       "    }\n",
       "\n",
       "    .dataframe thead th {\n",
       "        text-align: right;\n",
       "    }\n",
       "</style>\n",
       "<table border=\"1\" class=\"dataframe\">\n",
       "  <thead>\n",
       "    <tr style=\"text-align: right;\">\n",
       "      <th></th>\n",
       "      <th>feature</th>\n",
       "      <th>weight</th>\n",
       "    </tr>\n",
       "  </thead>\n",
       "  <tbody>\n",
       "    <tr>\n",
       "      <th>3</th>\n",
       "      <td>goal</td>\n",
       "      <td>0.304498</td>\n",
       "    </tr>\n",
       "    <tr>\n",
       "      <th>7</th>\n",
       "      <td>usd_pledged_real</td>\n",
       "      <td>0.219003</td>\n",
       "    </tr>\n",
       "    <tr>\n",
       "      <th>4</th>\n",
       "      <td>pledged</td>\n",
       "      <td>0.187100</td>\n",
       "    </tr>\n",
       "    <tr>\n",
       "      <th>5</th>\n",
       "      <td>backers</td>\n",
       "      <td>0.182526</td>\n",
       "    </tr>\n",
       "    <tr>\n",
       "      <th>6</th>\n",
       "      <td>usd pledged</td>\n",
       "      <td>0.077103</td>\n",
       "    </tr>\n",
       "    <tr>\n",
       "      <th>9</th>\n",
       "      <td>duration_days</td>\n",
       "      <td>0.010076</td>\n",
       "    </tr>\n",
       "    <tr>\n",
       "      <th>1</th>\n",
       "      <td>main_category</td>\n",
       "      <td>0.006218</td>\n",
       "    </tr>\n",
       "    <tr>\n",
       "      <th>8</th>\n",
       "      <td>year</td>\n",
       "      <td>0.005205</td>\n",
       "    </tr>\n",
       "    <tr>\n",
       "      <th>0</th>\n",
       "      <td>category</td>\n",
       "      <td>0.004344</td>\n",
       "    </tr>\n",
       "    <tr>\n",
       "      <th>2</th>\n",
       "      <td>currency</td>\n",
       "      <td>0.002758</td>\n",
       "    </tr>\n",
       "    <tr>\n",
       "      <th>10</th>\n",
       "      <td>region</td>\n",
       "      <td>0.001168</td>\n",
       "    </tr>\n",
       "  </tbody>\n",
       "</table>\n",
       "</div>"
      ],
      "text/plain": [
       "             feature    weight\n",
       "3               goal  0.304498\n",
       "7   usd_pledged_real  0.219003\n",
       "4            pledged  0.187100\n",
       "5            backers  0.182526\n",
       "6        usd pledged  0.077103\n",
       "9      duration_days  0.010076\n",
       "1      main_category  0.006218\n",
       "8               year  0.005205\n",
       "0           category  0.004344\n",
       "2           currency  0.002758\n",
       "10            region  0.001168"
      ]
     },
     "execution_count": 133,
     "metadata": {},
     "output_type": "execute_result"
    }
   ],
   "source": [
    "rf_coef_df.sort_values(by='weight', ascending=False)"
   ]
  },
  {
   "cell_type": "code",
   "execution_count": 134,
   "metadata": {},
   "outputs": [],
   "source": [
    "# 'goal' and 'usd_pledged_real'"
   ]
  },
  {
   "cell_type": "markdown",
   "metadata": {},
   "source": [
    "------"
   ]
  },
  {
   "cell_type": "markdown",
   "metadata": {},
   "source": [
    "------"
   ]
  },
  {
   "cell_type": "markdown",
   "metadata": {},
   "source": [
    "# Build the stronger model"
   ]
  },
  {
   "cell_type": "code",
   "execution_count": 135,
   "metadata": {},
   "outputs": [],
   "source": [
    "df = pd.read_csv('ks-projects-201801.csv')\n",
    "df.set_index(\"ID\", inplace=True)\n",
    "\n",
    "df.dropna(axis=0, inplace=True)\n",
    "df[['state']] = df[['state']].replace('failed', 0)\n",
    "df[['state']] = df[['state']].replace('canceled', 0)\n",
    "df[['state']] = df[['state']].replace('successful', 1)\n",
    "df.drop( df[ df['state'] == 'undefined' ].index, inplace=True)\n",
    "df.drop( df[ df['state'] == 'live' ].index, inplace=True)\n",
    "df.drop( df[ df['state'] == 'suspended' ].index, inplace=True)\n",
    "df['launched'] = pd.to_datetime(df['launched'])\n",
    "df['year'] = df.launched.dt.year\n",
    "df['deadline'] = pd.to_datetime(df['deadline'])\n",
    "df['duration_days'] = df['deadline'] - df['launched']\n",
    "df['duration_days'] = df['duration_days'].astype('timedelta64[D]')\n",
    "df['region'] = df[['country']].copy()\n",
    "\n",
    "df['region'] = df[['region']].replace('GB', 'Europe')\n",
    "df['region'] = df[['region']].replace('US', 'America')\n",
    "df['region'] = df[['region']].replace('CA', 'America')\n",
    "df['region'] = df[['region']].replace('AU', 'Oceania')\n",
    "df['region'] = df[['region']].replace('NO', 'Europe')\n",
    "df['region'] = df[['region']].replace('IT', 'Asia')\n",
    "df['region'] = df[['region']].replace('DE', 'Europe')\n",
    "df['region'] = df[['region']].replace('IE', 'Europe')\n",
    "df['region'] = df[['region']].replace('MX', 'America')\n",
    "df['region'] = df[['region']].replace('ES', 'Europe')\n",
    "df['region'] = df[['region']].replace('SE', 'Europe')\n",
    "df['region'] = df[['region']].replace('FR', 'Europe')\n",
    "df['region'] = df[['region']].replace('NL', 'Europe')\n",
    "df['region'] = df[['region']].replace('NZ', 'Oceania')\n",
    "df['region'] = df[['region']].replace('CH', 'Europe')\n",
    "df['region'] = df[['region']].replace('AT', 'Europe')\n",
    "df['region'] = df[['region']].replace('BE', 'Europe')\n",
    "df['region'] = df[['region']].replace('DK', 'Asia')\n",
    "df['region'] = df[['region']].replace('HK', 'Asia')\n",
    "df['region'] = df[['region']].replace('LU', 'Europe')\n",
    "df['region'] = df[['region']].replace('SG', 'Asia')\n",
    "df['region'] = df[['region']].replace('JP', 'Asia')\n",
    "\n",
    "df['name_length'] = df['name'].str.len()"
   ]
  },
  {
   "cell_type": "code",
   "execution_count": 136,
   "metadata": {},
   "outputs": [],
   "source": [
    "# Also, features 'pledged' and 'goal' are the week ones, because they show pledged in local currency, whereas we need in same currency (USD)\n",
    "# besides that I figured out, that column 'usd pledged' is inconsistent with 'usd_pledged_real', \n",
    "# thus it's better to use the single data source 'usd_pledged_real' and 'usd_goal_real'"
   ]
  },
  {
   "cell_type": "code",
   "execution_count": 137,
   "metadata": {},
   "outputs": [],
   "source": [
    "columns_to_drop = ['name', 'deadline', 'goal', 'launched', 'pledged', 'usd pledged', 'country']"
   ]
  },
  {
   "cell_type": "code",
   "execution_count": 138,
   "metadata": {},
   "outputs": [],
   "source": [
    "df = df.drop(columns=columns_to_drop)"
   ]
  },
  {
   "cell_type": "markdown",
   "metadata": {},
   "source": [
    "### Q5.1 Generate two (or more) meaningfull features"
   ]
  },
  {
   "cell_type": "code",
   "execution_count": 139,
   "metadata": {},
   "outputs": [],
   "source": [
    "# Additional features:\n",
    "# mean_main_category_goal\n",
    "# mean_category_goal\n",
    "# diff_mean_category_goal\n",
    "# diff_mean_main_category_goal"
   ]
  },
  {
   "cell_type": "code",
   "execution_count": 140,
   "metadata": {},
   "outputs": [],
   "source": [
    "t2 = df.groupby(\"main_category\").agg({\"usd_goal_real\" : \"mean\", \"category\" : \"sum\"})\n",
    "t2 = t2.reset_index().rename(columns={\"usd_goal_real\" : \"mean_main_category_goal\", \"category\" : \"main_category_count\"})\n",
    "\n",
    "t1 = df.groupby(\"category\").agg({\"usd_goal_real\" : \"mean\", \"main_category\" : \"sum\"})\n",
    "t1 = t1.reset_index().rename(columns={\"usd_goal_real\" : \"mean_category_goal\", \"main_category\" : \"category_count\"})\n",
    "\n",
    "df = df.merge(t1, on = \"category\")\n",
    "df = df.merge(t2, on = \"main_category\")\n",
    "\n",
    "df[\"diff_mean_category_goal\"] = df[\"mean_category_goal\"] - df[\"usd_goal_real\"]\n",
    "df[\"diff_mean_main_category_goal\"] = df[\"mean_main_category_goal\"] - df[\"usd_goal_real\"]\n",
    "\n",
    "df = df.drop(columns = ['main_category_count', 'category_count'])"
   ]
  },
  {
   "cell_type": "code",
   "execution_count": 141,
   "metadata": {},
   "outputs": [],
   "source": [
    "# More features\n",
    "\n",
    "df['diff_mean_category_goal_minus_pledged'] = df[\"mean_category_goal\"] - df[\"usd_pledged_real\"]\n",
    "df['diff_mean_main_category_goal_minus_pledged'] = df[\"mean_main_category_goal\"] - df[\"usd_pledged_real\"]"
   ]
  },
  {
   "cell_type": "code",
   "execution_count": 142,
   "metadata": {},
   "outputs": [],
   "source": [
    "cat_features = ['category', 'main_category', 'currency', 'region']\n",
    "\n",
    "encoder = LabelEncoder()\n",
    "\n",
    "df[cat_features] = df[cat_features].apply(encoder.fit_transform)"
   ]
  },
  {
   "cell_type": "code",
   "execution_count": 143,
   "metadata": {},
   "outputs": [],
   "source": [
    "# week?"
   ]
  },
  {
   "cell_type": "code",
   "execution_count": 144,
   "metadata": {},
   "outputs": [],
   "source": [
    "X = df.drop('state', axis=1, inplace=False)\n",
    "Y = df[['state']]\n",
    "X_train, X_test, y_train, y_test = train_test_split(X, Y, test_size=0.2, random_state=42)"
   ]
  },
  {
   "cell_type": "code",
   "execution_count": 145,
   "metadata": {},
   "outputs": [
    {
     "data": {
      "text/html": [
       "<div>\n",
       "<style scoped>\n",
       "    .dataframe tbody tr th:only-of-type {\n",
       "        vertical-align: middle;\n",
       "    }\n",
       "\n",
       "    .dataframe tbody tr th {\n",
       "        vertical-align: top;\n",
       "    }\n",
       "\n",
       "    .dataframe thead th {\n",
       "        text-align: right;\n",
       "    }\n",
       "</style>\n",
       "<table border=\"1\" class=\"dataframe\">\n",
       "  <thead>\n",
       "    <tr style=\"text-align: right;\">\n",
       "      <th></th>\n",
       "      <th>category</th>\n",
       "      <th>main_category</th>\n",
       "      <th>currency</th>\n",
       "      <th>state</th>\n",
       "      <th>backers</th>\n",
       "      <th>usd_pledged_real</th>\n",
       "      <th>usd_goal_real</th>\n",
       "      <th>year</th>\n",
       "      <th>duration_days</th>\n",
       "      <th>region</th>\n",
       "      <th>name_length</th>\n",
       "      <th>mean_category_goal</th>\n",
       "      <th>mean_main_category_goal</th>\n",
       "      <th>diff_mean_category_goal</th>\n",
       "      <th>diff_mean_main_category_goal</th>\n",
       "      <th>diff_mean_category_goal_minus_pledged</th>\n",
       "      <th>diff_mean_main_category_goal_minus_pledged</th>\n",
       "    </tr>\n",
       "  </thead>\n",
       "  <tbody>\n",
       "    <tr>\n",
       "      <th>0</th>\n",
       "      <td>108</td>\n",
       "      <td>12</td>\n",
       "      <td>5</td>\n",
       "      <td>0</td>\n",
       "      <td>0</td>\n",
       "      <td>0.00</td>\n",
       "      <td>1533.95</td>\n",
       "      <td>2015</td>\n",
       "      <td>58.0</td>\n",
       "      <td>2</td>\n",
       "      <td>31</td>\n",
       "      <td>5213.996468</td>\n",
       "      <td>22605.780995</td>\n",
       "      <td>3680.046468</td>\n",
       "      <td>21071.830995</td>\n",
       "      <td>5213.996468</td>\n",
       "      <td>22605.780995</td>\n",
       "    </tr>\n",
       "    <tr>\n",
       "      <th>1</th>\n",
       "      <td>108</td>\n",
       "      <td>12</td>\n",
       "      <td>5</td>\n",
       "      <td>0</td>\n",
       "      <td>1</td>\n",
       "      <td>30.30</td>\n",
       "      <td>6060.97</td>\n",
       "      <td>2013</td>\n",
       "      <td>29.0</td>\n",
       "      <td>2</td>\n",
       "      <td>50</td>\n",
       "      <td>5213.996468</td>\n",
       "      <td>22605.780995</td>\n",
       "      <td>-846.973532</td>\n",
       "      <td>16544.810995</td>\n",
       "      <td>5183.696468</td>\n",
       "      <td>22575.480995</td>\n",
       "    </tr>\n",
       "    <tr>\n",
       "      <th>2</th>\n",
       "      <td>108</td>\n",
       "      <td>12</td>\n",
       "      <td>13</td>\n",
       "      <td>0</td>\n",
       "      <td>6</td>\n",
       "      <td>325.00</td>\n",
       "      <td>2000.00</td>\n",
       "      <td>2015</td>\n",
       "      <td>29.0</td>\n",
       "      <td>0</td>\n",
       "      <td>16</td>\n",
       "      <td>5213.996468</td>\n",
       "      <td>22605.780995</td>\n",
       "      <td>3213.996468</td>\n",
       "      <td>20605.780995</td>\n",
       "      <td>4888.996468</td>\n",
       "      <td>22280.780995</td>\n",
       "    </tr>\n",
       "    <tr>\n",
       "      <th>3</th>\n",
       "      <td>108</td>\n",
       "      <td>12</td>\n",
       "      <td>13</td>\n",
       "      <td>0</td>\n",
       "      <td>2</td>\n",
       "      <td>101.00</td>\n",
       "      <td>10000.00</td>\n",
       "      <td>2014</td>\n",
       "      <td>29.0</td>\n",
       "      <td>0</td>\n",
       "      <td>52</td>\n",
       "      <td>5213.996468</td>\n",
       "      <td>22605.780995</td>\n",
       "      <td>-4786.003532</td>\n",
       "      <td>12605.780995</td>\n",
       "      <td>5112.996468</td>\n",
       "      <td>22504.780995</td>\n",
       "    </tr>\n",
       "    <tr>\n",
       "      <th>4</th>\n",
       "      <td>108</td>\n",
       "      <td>12</td>\n",
       "      <td>1</td>\n",
       "      <td>0</td>\n",
       "      <td>3</td>\n",
       "      <td>41.66</td>\n",
       "      <td>757.52</td>\n",
       "      <td>2015</td>\n",
       "      <td>29.0</td>\n",
       "      <td>0</td>\n",
       "      <td>17</td>\n",
       "      <td>5213.996468</td>\n",
       "      <td>22605.780995</td>\n",
       "      <td>4456.476468</td>\n",
       "      <td>21848.260995</td>\n",
       "      <td>5172.336468</td>\n",
       "      <td>22564.120995</td>\n",
       "    </tr>\n",
       "    <tr>\n",
       "      <th>...</th>\n",
       "      <td>...</td>\n",
       "      <td>...</td>\n",
       "      <td>...</td>\n",
       "      <td>...</td>\n",
       "      <td>...</td>\n",
       "      <td>...</td>\n",
       "      <td>...</td>\n",
       "      <td>...</td>\n",
       "      <td>...</td>\n",
       "      <td>...</td>\n",
       "      <td>...</td>\n",
       "      <td>...</td>\n",
       "      <td>...</td>\n",
       "      <td>...</td>\n",
       "      <td>...</td>\n",
       "      <td>...</td>\n",
       "      <td>...</td>\n",
       "    </tr>\n",
       "    <tr>\n",
       "      <th>370214</th>\n",
       "      <td>122</td>\n",
       "      <td>3</td>\n",
       "      <td>13</td>\n",
       "      <td>1</td>\n",
       "      <td>31</td>\n",
       "      <td>3545.00</td>\n",
       "      <td>3000.00</td>\n",
       "      <td>2014</td>\n",
       "      <td>29.0</td>\n",
       "      <td>0</td>\n",
       "      <td>19</td>\n",
       "      <td>11802.966957</td>\n",
       "      <td>9408.592117</td>\n",
       "      <td>8802.966957</td>\n",
       "      <td>6408.592117</td>\n",
       "      <td>8257.966957</td>\n",
       "      <td>5863.592117</td>\n",
       "    </tr>\n",
       "    <tr>\n",
       "      <th>370215</th>\n",
       "      <td>122</td>\n",
       "      <td>3</td>\n",
       "      <td>1</td>\n",
       "      <td>0</td>\n",
       "      <td>6</td>\n",
       "      <td>45.50</td>\n",
       "      <td>446030.33</td>\n",
       "      <td>2014</td>\n",
       "      <td>59.0</td>\n",
       "      <td>0</td>\n",
       "      <td>5</td>\n",
       "      <td>11802.966957</td>\n",
       "      <td>9408.592117</td>\n",
       "      <td>-434227.363043</td>\n",
       "      <td>-436621.737883</td>\n",
       "      <td>11757.466957</td>\n",
       "      <td>9363.092117</td>\n",
       "    </tr>\n",
       "    <tr>\n",
       "      <th>370216</th>\n",
       "      <td>122</td>\n",
       "      <td>3</td>\n",
       "      <td>13</td>\n",
       "      <td>1</td>\n",
       "      <td>75</td>\n",
       "      <td>3010.00</td>\n",
       "      <td>3000.00</td>\n",
       "      <td>2017</td>\n",
       "      <td>30.0</td>\n",
       "      <td>0</td>\n",
       "      <td>17</td>\n",
       "      <td>11802.966957</td>\n",
       "      <td>9408.592117</td>\n",
       "      <td>8802.966957</td>\n",
       "      <td>6408.592117</td>\n",
       "      <td>8792.966957</td>\n",
       "      <td>6398.592117</td>\n",
       "    </tr>\n",
       "    <tr>\n",
       "      <th>370217</th>\n",
       "      <td>122</td>\n",
       "      <td>3</td>\n",
       "      <td>8</td>\n",
       "      <td>0</td>\n",
       "      <td>10</td>\n",
       "      <td>133.37</td>\n",
       "      <td>20349.80</td>\n",
       "      <td>2017</td>\n",
       "      <td>24.0</td>\n",
       "      <td>0</td>\n",
       "      <td>20</td>\n",
       "      <td>11802.966957</td>\n",
       "      <td>9408.592117</td>\n",
       "      <td>-8546.833043</td>\n",
       "      <td>-10941.207883</td>\n",
       "      <td>11669.596957</td>\n",
       "      <td>9275.222117</td>\n",
       "    </tr>\n",
       "    <tr>\n",
       "      <th>370218</th>\n",
       "      <td>122</td>\n",
       "      <td>3</td>\n",
       "      <td>13</td>\n",
       "      <td>1</td>\n",
       "      <td>87</td>\n",
       "      <td>3426.00</td>\n",
       "      <td>3000.00</td>\n",
       "      <td>2013</td>\n",
       "      <td>21.0</td>\n",
       "      <td>0</td>\n",
       "      <td>58</td>\n",
       "      <td>11802.966957</td>\n",
       "      <td>9408.592117</td>\n",
       "      <td>8802.966957</td>\n",
       "      <td>6408.592117</td>\n",
       "      <td>8376.966957</td>\n",
       "      <td>5982.592117</td>\n",
       "    </tr>\n",
       "  </tbody>\n",
       "</table>\n",
       "<p>370219 rows × 17 columns</p>\n",
       "</div>"
      ],
      "text/plain": [
       "        category  main_category  currency state  backers  usd_pledged_real  \\\n",
       "0            108             12         5     0        0              0.00   \n",
       "1            108             12         5     0        1             30.30   \n",
       "2            108             12        13     0        6            325.00   \n",
       "3            108             12        13     0        2            101.00   \n",
       "4            108             12         1     0        3             41.66   \n",
       "...          ...            ...       ...   ...      ...               ...   \n",
       "370214       122              3        13     1       31           3545.00   \n",
       "370215       122              3         1     0        6             45.50   \n",
       "370216       122              3        13     1       75           3010.00   \n",
       "370217       122              3         8     0       10            133.37   \n",
       "370218       122              3        13     1       87           3426.00   \n",
       "\n",
       "        usd_goal_real  year  duration_days  region  name_length  \\\n",
       "0             1533.95  2015           58.0       2           31   \n",
       "1             6060.97  2013           29.0       2           50   \n",
       "2             2000.00  2015           29.0       0           16   \n",
       "3            10000.00  2014           29.0       0           52   \n",
       "4              757.52  2015           29.0       0           17   \n",
       "...               ...   ...            ...     ...          ...   \n",
       "370214        3000.00  2014           29.0       0           19   \n",
       "370215      446030.33  2014           59.0       0            5   \n",
       "370216        3000.00  2017           30.0       0           17   \n",
       "370217       20349.80  2017           24.0       0           20   \n",
       "370218        3000.00  2013           21.0       0           58   \n",
       "\n",
       "        mean_category_goal  mean_main_category_goal  diff_mean_category_goal  \\\n",
       "0              5213.996468             22605.780995              3680.046468   \n",
       "1              5213.996468             22605.780995              -846.973532   \n",
       "2              5213.996468             22605.780995              3213.996468   \n",
       "3              5213.996468             22605.780995             -4786.003532   \n",
       "4              5213.996468             22605.780995              4456.476468   \n",
       "...                    ...                      ...                      ...   \n",
       "370214        11802.966957              9408.592117              8802.966957   \n",
       "370215        11802.966957              9408.592117           -434227.363043   \n",
       "370216        11802.966957              9408.592117              8802.966957   \n",
       "370217        11802.966957              9408.592117             -8546.833043   \n",
       "370218        11802.966957              9408.592117              8802.966957   \n",
       "\n",
       "        diff_mean_main_category_goal  diff_mean_category_goal_minus_pledged  \\\n",
       "0                       21071.830995                            5213.996468   \n",
       "1                       16544.810995                            5183.696468   \n",
       "2                       20605.780995                            4888.996468   \n",
       "3                       12605.780995                            5112.996468   \n",
       "4                       21848.260995                            5172.336468   \n",
       "...                              ...                                    ...   \n",
       "370214                   6408.592117                            8257.966957   \n",
       "370215                -436621.737883                           11757.466957   \n",
       "370216                   6408.592117                            8792.966957   \n",
       "370217                 -10941.207883                           11669.596957   \n",
       "370218                   6408.592117                            8376.966957   \n",
       "\n",
       "        diff_mean_main_category_goal_minus_pledged  \n",
       "0                                     22605.780995  \n",
       "1                                     22575.480995  \n",
       "2                                     22280.780995  \n",
       "3                                     22504.780995  \n",
       "4                                     22564.120995  \n",
       "...                                            ...  \n",
       "370214                                 5863.592117  \n",
       "370215                                 9363.092117  \n",
       "370216                                 6398.592117  \n",
       "370217                                 9275.222117  \n",
       "370218                                 5982.592117  \n",
       "\n",
       "[370219 rows x 17 columns]"
      ]
     },
     "execution_count": 145,
     "metadata": {},
     "output_type": "execute_result"
    }
   ],
   "source": [
    "df"
   ]
  },
  {
   "cell_type": "code",
   "execution_count": 146,
   "metadata": {},
   "outputs": [],
   "source": [
    "features_to_scale = ['backers',\n",
    "                     'usd_pledged_real', \n",
    "                     'usd_goal_real', \n",
    "                     'mean_category_goal', \n",
    "                     'mean_main_category_goal', \n",
    "                     'diff_mean_category_goal',\n",
    "                     'diff_mean_main_category_goal',\n",
    "                     'diff_mean_category_goal_minus_pledged',\n",
    "                     'diff_mean_main_category_goal_minus_pledged']"
   ]
  },
  {
   "cell_type": "code",
   "execution_count": 147,
   "metadata": {
    "collapsed": true,
    "jupyter": {
     "outputs_hidden": true
    }
   },
   "outputs": [
    {
     "name": "stderr",
     "output_type": "stream",
     "text": [
      "/home/artem/anaconda3/lib/python3.7/site-packages/ipykernel_launcher.py:1: SettingWithCopyWarning: \n",
      "A value is trying to be set on a copy of a slice from a DataFrame.\n",
      "Try using .loc[row_indexer,col_indexer] = value instead\n",
      "\n",
      "See the caveats in the documentation: https://pandas.pydata.org/pandas-docs/stable/user_guide/indexing.html#returning-a-view-versus-a-copy\n",
      "  \"\"\"Entry point for launching an IPython kernel.\n",
      "/home/artem/anaconda3/lib/python3.7/site-packages/pandas/core/indexing.py:965: SettingWithCopyWarning: \n",
      "A value is trying to be set on a copy of a slice from a DataFrame.\n",
      "Try using .loc[row_indexer,col_indexer] = value instead\n",
      "\n",
      "See the caveats in the documentation: https://pandas.pydata.org/pandas-docs/stable/user_guide/indexing.html#returning-a-view-versus-a-copy\n",
      "  self.obj[item] = s\n"
     ]
    }
   ],
   "source": [
    "X_train[features_to_scale] = StandardScaler().fit_transform(X_train[features_to_scale])"
   ]
  },
  {
   "cell_type": "code",
   "execution_count": 148,
   "metadata": {
    "collapsed": true,
    "jupyter": {
     "outputs_hidden": true
    }
   },
   "outputs": [
    {
     "name": "stderr",
     "output_type": "stream",
     "text": [
      "/home/artem/anaconda3/lib/python3.7/site-packages/ipykernel_launcher.py:1: SettingWithCopyWarning: \n",
      "A value is trying to be set on a copy of a slice from a DataFrame.\n",
      "Try using .loc[row_indexer,col_indexer] = value instead\n",
      "\n",
      "See the caveats in the documentation: https://pandas.pydata.org/pandas-docs/stable/user_guide/indexing.html#returning-a-view-versus-a-copy\n",
      "  \"\"\"Entry point for launching an IPython kernel.\n",
      "/home/artem/anaconda3/lib/python3.7/site-packages/pandas/core/indexing.py:965: SettingWithCopyWarning: \n",
      "A value is trying to be set on a copy of a slice from a DataFrame.\n",
      "Try using .loc[row_indexer,col_indexer] = value instead\n",
      "\n",
      "See the caveats in the documentation: https://pandas.pydata.org/pandas-docs/stable/user_guide/indexing.html#returning-a-view-versus-a-copy\n",
      "  self.obj[item] = s\n"
     ]
    }
   ],
   "source": [
    "X_test[features_to_scale] = StandardScaler().fit_transform(X_test[features_to_scale])"
   ]
  },
  {
   "cell_type": "markdown",
   "metadata": {},
   "source": [
    "### Q5.2 Train an xgboost, that's beat random forest"
   ]
  },
  {
   "cell_type": "code",
   "execution_count": 149,
   "metadata": {},
   "outputs": [],
   "source": [
    "import xgboost as xgb"
   ]
  },
  {
   "cell_type": "code",
   "execution_count": 150,
   "metadata": {},
   "outputs": [],
   "source": [
    "xgb_model = xgb.XGBClassifier(n_estimators=100, max_depth=15, n_jobs=-1)"
   ]
  },
  {
   "cell_type": "code",
   "execution_count": 151,
   "metadata": {},
   "outputs": [
    {
     "data": {
      "text/plain": [
       "XGBClassifier(base_score=0.5, booster='gbtree', colsample_bylevel=1,\n",
       "              colsample_bynode=1, colsample_bytree=1, gamma=0, gpu_id=-1,\n",
       "              importance_type='gain', interaction_constraints='',\n",
       "              learning_rate=0.300000012, max_delta_step=0, max_depth=15,\n",
       "              min_child_weight=1, missing=nan, monotone_constraints='()',\n",
       "              n_estimators=100, n_jobs=-1, num_parallel_tree=1,\n",
       "              objective='binary:logistic', random_state=0, reg_alpha=0,\n",
       "              reg_lambda=1, scale_pos_weight=1, subsample=1,\n",
       "              tree_method='exact', validate_parameters=1, verbosity=None)"
      ]
     },
     "execution_count": 151,
     "metadata": {},
     "output_type": "execute_result"
    }
   ],
   "source": [
    "xgb_model.fit(X_train, y_train['state'].values)"
   ]
  },
  {
   "cell_type": "code",
   "execution_count": 152,
   "metadata": {},
   "outputs": [],
   "source": [
    "xgb_pred = xgb_model.predict(X_test)"
   ]
  },
  {
   "cell_type": "code",
   "execution_count": 153,
   "metadata": {},
   "outputs": [
    {
     "data": {
      "text/plain": [
       "0.9129706660904328"
      ]
     },
     "execution_count": 153,
     "metadata": {},
     "output_type": "execute_result"
    }
   ],
   "source": [
    "accuracy_score(y_test['state'].values.astype(int), xgb_pred.astype(int))"
   ]
  },
  {
   "cell_type": "code",
   "execution_count": 154,
   "metadata": {},
   "outputs": [
    {
     "data": {
      "text/plain": [
       "0.9269211007275252"
      ]
     },
     "execution_count": 154,
     "metadata": {},
     "output_type": "execute_result"
    }
   ],
   "source": [
    "roc_auc_score(y_test['state'].values.astype(int), xgb_pred.astype(int))"
   ]
  },
  {
   "cell_type": "code",
   "execution_count": 155,
   "metadata": {},
   "outputs": [],
   "source": [
    "precision, recall, thresholds = precision_recall_curve(y_test['state'].values.astype(int), xgb_pred.astype(int))"
   ]
  },
  {
   "cell_type": "code",
   "execution_count": 156,
   "metadata": {},
   "outputs": [
    {
     "data": {
      "image/png": "[encoded data removed]",
      "text/plain": [
       "<Figure size 432x288 with 1 Axes>"
      ]
     },
     "metadata": {},
     "output_type": "display_data"
    }
   ],
   "source": [
    "plt.plot(recall, precision)\n",
    "plt.title('Precision-recall curve for RandomForestClassifier')\n",
    "plt.xlabel('Recall')\n",
    "plt.ylabel('Precision|')\n",
    "plt.show()"
   ]
  },
  {
   "cell_type": "code",
   "execution_count": null,
   "metadata": {},
   "outputs": [],
   "source": []
  }
 ],
 "metadata": {
  "colab": {
   "name": "kickstarter.ipynb",
   "provenance": []
  },
  "kernelspec": {
   "display_name": "Python 3",
   "language": "python",
   "name": "python3"
  },
  "language_info": {
   "codemirror_mode": {
    "name": "ipython",
    "version": 3
   },
   "file_extension": ".py",
   "mimetype": "text/x-python",
   "name": "python",
   "nbconvert_exporter": "python",
   "pygments_lexer": "ipython3",
   "version": "3.7.6"
  }
 },
 "nbformat": 4,
 "nbformat_minor": 4
}
